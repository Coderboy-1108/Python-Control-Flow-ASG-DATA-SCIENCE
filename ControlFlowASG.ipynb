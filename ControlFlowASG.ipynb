{
 "cells": [
  {
   "cell_type": "code",
   "execution_count": 1,
   "id": "c5c8a68d-364e-49e9-82af-b57bf00c9b3b",
   "metadata": {},
   "outputs": [
    {
     "name": "stdin",
     "output_type": "stream",
     "text": [
      "Enter a number :  5\n"
     ]
    },
    {
     "name": "stdout",
     "output_type": "stream",
     "text": [
      "Positive\n"
     ]
    }
   ],
   "source": [
    "# Basic If-Else Statements:\n",
    "# 1. Write a Python program to check if a given number is positive or negative.\n",
    "if int(input(\"Enter a number : \")) > 0 :\n",
    "    print(\"Positive\")\n",
    "else :\n",
    "    print(\"Negative\")"
   ]
  },
  {
   "cell_type": "code",
   "execution_count": 2,
   "id": "6e102c54-18b5-4bb2-91a5-f2858ba88d3e",
   "metadata": {},
   "outputs": [
    {
     "name": "stdin",
     "output_type": "stream",
     "text": [
      "Enter your age :  18\n"
     ]
    },
    {
     "name": "stdout",
     "output_type": "stream",
     "text": [
      "You can vote\n"
     ]
    }
   ],
   "source": [
    "# 2. Create a program that determines if a person is eligible to vote based on their age.\n",
    "if int(input(\"Enter your age : \")) >= 18 :\n",
    "    print(\"You can vote\")\n",
    "else :\n",
    "    print(\"You can't vote\")"
   ]
  },
  {
   "cell_type": "code",
   "execution_count": 3,
   "id": "06331531-d93d-461c-8de2-117f8edb1c5b",
   "metadata": {},
   "outputs": [
    {
     "name": "stdin",
     "output_type": "stream",
     "text": [
      "Enter first number :  5\n",
      "Enter second number :  10\n"
     ]
    },
    {
     "name": "stdout",
     "output_type": "stream",
     "text": [
      "10 is greater than 5\n"
     ]
    }
   ],
   "source": [
    "# 3. Develop a program to find the maximum of two numbers using if-else statements.\n",
    "a = int(input(\"Enter first number : \"))\n",
    "b = int(input(\"Enter second number : \"))\n",
    "if a > b :\n",
    "    print(f\"{a} is greater than {b}\")\n",
    "else :\n",
    "    print(f\"{b} is greater than {a}\")"
   ]
  },
  {
   "cell_type": "code",
   "execution_count": 4,
   "id": "a6c08eac-c9b4-44e7-9399-3def6f6e6ade",
   "metadata": {},
   "outputs": [
    {
     "name": "stdin",
     "output_type": "stream",
     "text": [
      "Enter year :  2000\n"
     ]
    },
    {
     "name": "stdout",
     "output_type": "stream",
     "text": [
      "leap year\n"
     ]
    }
   ],
   "source": [
    "# 4. Write a Python script to classify a given year as a leap year or not.\n",
    "year = int(input(\"Enter year : \"))\n",
    "if year % 4 == 0 and not str(year).endswith(\"00\") :\n",
    "    print(\"leap year\")\n",
    "elif year % 400 == 0 :\n",
    "    print(\"leap year\")\n",
    "else :\n",
    "    print(\"not leap year\")"
   ]
  },
  {
   "cell_type": "code",
   "execution_count": 5,
   "id": "b8acb675-d3e8-4743-947b-c45364dd3f4b",
   "metadata": {},
   "outputs": [
    {
     "name": "stdin",
     "output_type": "stream",
     "text": [
      "Enter a character :  c\n"
     ]
    },
    {
     "name": "stdout",
     "output_type": "stream",
     "text": [
      "consonant\n"
     ]
    }
   ],
   "source": [
    "# 5. Create a program that checks whether a character is a vowel or a consonant.\n",
    "if input(\"Enter a character : \") in [\"a\", \"e\", \"i\", \"o\", \"u\"] :\n",
    "    print(\"vowel\")\n",
    "else :\n",
    "    print(\"consonant\")"
   ]
  },
  {
   "cell_type": "code",
   "execution_count": 6,
   "id": "0d59b1cd-167a-4b59-8bf2-a2dd9698e651",
   "metadata": {},
   "outputs": [
    {
     "name": "stdin",
     "output_type": "stream",
     "text": [
      "Enter a number :  22\n"
     ]
    },
    {
     "name": "stdout",
     "output_type": "stream",
     "text": [
      "even\n"
     ]
    }
   ],
   "source": [
    "# 6. Implement a program to determine whether a given number is even or odd.\n",
    "if int(input(\"Enter a number : \")) % 2 == 0 :\n",
    "    print(\"even\")\n",
    "else :\n",
    "    print(\"odd\")"
   ]
  },
  {
   "cell_type": "code",
   "execution_count": 7,
   "id": "6b9e17c3-88cc-4d52-a354-c0d3668660ab",
   "metadata": {},
   "outputs": [
    {
     "name": "stdin",
     "output_type": "stream",
     "text": [
      "Enter a number :  -10\n"
     ]
    },
    {
     "name": "stdout",
     "output_type": "stream",
     "text": [
      "Absolute value of the number is 10\n"
     ]
    }
   ],
   "source": [
    "# 7. Write a Python function to calculate the absolute value of a number without using the `abs()` function.\n",
    "num = int(input(\"Enter a number : \"))\n",
    "if num < 0 :\n",
    "    print(f\"Absolute value of the number is {-num}\")\n",
    "else :\n",
    "    print(f\"Absolute value of the number is {num}\")"
   ]
  },
  {
   "cell_type": "code",
   "execution_count": 8,
   "id": "5fa9e5e3-8e07-42bc-a880-36bc10c3aa34",
   "metadata": {},
   "outputs": [
    {
     "name": "stdin",
     "output_type": "stream",
     "text": [
      "Enter a number :  10\n",
      "Enter a number :  15\n",
      "Enter a number :  5\n"
     ]
    },
    {
     "name": "stdout",
     "output_type": "stream",
     "text": [
      "largest is 15\n"
     ]
    }
   ],
   "source": [
    "# 8. Develop a program that determines the largest of three given numbers using if-else statements.\n",
    "firstNum = int(input(\"Enter a number : \"))\n",
    "secondNum = int(input(\"Enter a number : \"))\n",
    "thirdNum = int(input(\"Enter a number : \"))\n",
    "if firstNum > secondNum :\n",
    "    if firstNum > thirdNum :\n",
    "        print(f\"largest is {firstNum}\")\n",
    "    else :\n",
    "        print(f\"largest is {thirdNum}\")\n",
    "else :\n",
    "    if secondNum > thirdNum :\n",
    "        print(f\"largest is {secondNum}\")\n",
    "    else :\n",
    "        print(f\"largest is {thirdNum}\")"
   ]
  },
  {
   "cell_type": "code",
   "execution_count": 9,
   "id": "f723d770-02e2-414e-a3f9-9960e704cebb",
   "metadata": {},
   "outputs": [
    {
     "name": "stdin",
     "output_type": "stream",
     "text": [
      "Enter a string :  acbca\n"
     ]
    },
    {
     "name": "stdout",
     "output_type": "stream",
     "text": [
      "palindrome\n"
     ]
    }
   ],
   "source": [
    "# 9. Create a program that checks if a given string is a palindrome.\n",
    "strg = input(\"Enter a string : \")\n",
    "if strg == strg[::-1] :\n",
    "    print(\"palindrome\")\n",
    "else :\n",
    "    print(\"not palindrome\")"
   ]
  },
  {
   "cell_type": "code",
   "execution_count": 10,
   "id": "0b7a85d9-ad1c-4319-9d61-2afc70f3671d",
   "metadata": {},
   "outputs": [
    {
     "name": "stdin",
     "output_type": "stream",
     "text": [
      "Enter your marks out of 100 :  60\n"
     ]
    },
    {
     "name": "stdout",
     "output_type": "stream",
     "text": [
      "D\n"
     ]
    }
   ],
   "source": [
    "# 10. Write a Python program to calculate the grade based on a student's score.\n",
    "marks = int(input(\"Enter your marks out of 100 : \"))\n",
    "if marks >= 90 :\n",
    "    print(\"A\")\n",
    "elif marks >= 80 :\n",
    "    print(\"B\")\n",
    "elif marks >= 70 :\n",
    "    print(\"C\")\n",
    "elif marks >= 60 :\n",
    "    print(\"D\")\n",
    "else :\n",
    "    print(\"F\")"
   ]
  },
  {
   "cell_type": "code",
   "execution_count": 11,
   "id": "5f8cd80f-d870-438c-a6db-2e37998b6f0c",
   "metadata": {},
   "outputs": [
    {
     "name": "stdin",
     "output_type": "stream",
     "text": [
      "Enter a number :  5\n",
      "Enter a number :  10\n",
      "Enter a number :  15\n"
     ]
    },
    {
     "name": "stdout",
     "output_type": "stream",
     "text": [
      "largest is 15\n"
     ]
    }
   ],
   "source": [
    "# Nested If-Else Statements:\n",
    "# 11. Write a program to find the largest among three numbers using nested if-else statements.\n",
    "firstNum = int(input(\"Enter a number : \"))\n",
    "secondNum = int(input(\"Enter a number : \"))\n",
    "thirdNum = int(input(\"Enter a number : \"))\n",
    "\n",
    "if firstNum > secondNum :\n",
    "    if firstNum > thirdNum :\n",
    "        print(f\"largest is {firstNum}\")\n",
    "    else :\n",
    "        print(f\"largest is {thirdNum}\")\n",
    "else :\n",
    "    if secondNum > thirdNum :\n",
    "        print(f\"largest is {secondNum}\")\n",
    "    else :\n",
    "        print(f\"largest is {thirdNum}\")"
   ]
  },
  {
   "cell_type": "code",
   "execution_count": 12,
   "id": "7f3094cc-f931-45e3-9ce2-cf8118ce7051",
   "metadata": {},
   "outputs": [
    {
     "name": "stdin",
     "output_type": "stream",
     "text": [
      "Enter :  20\n",
      "Enter :  20\n",
      "Enter :  10\n"
     ]
    },
    {
     "name": "stdout",
     "output_type": "stream",
     "text": [
      "Isosceles\n"
     ]
    }
   ],
   "source": [
    "# 12. Implement a program to determine if a triangle is equilateral, isosceles, or scalene.\n",
    "firstside = int(input(\"Enter : \"))\n",
    "secondside = int(input(\"Enter : \"))\n",
    "thirdside = int(input(\"Enter : \"))\n",
    "if firstside == secondside == thirdside :\n",
    "    print(\"Equilateral\")\n",
    "else : \n",
    "    if firstside == secondside or secondside == thirdside or firstside == thirdside :\n",
    "        print(\"Isosceles\")\n",
    "    else :\n",
    "        print(\"Scalene\")"
   ]
  },
  {
   "cell_type": "code",
   "execution_count": 13,
   "id": "645ac8ac-31ae-4413-980f-d50d77c9b528",
   "metadata": {},
   "outputs": [
    {
     "name": "stdin",
     "output_type": "stream",
     "text": [
      "Enter year :  2001\n"
     ]
    },
    {
     "name": "stdout",
     "output_type": "stream",
     "text": [
      "not leap year\n"
     ]
    }
   ],
   "source": [
    "# 13. Develop a program that checks if a year is a leap year and also if it is a century year.\n",
    "year = int(input(\"Enter year : \"))\n",
    "if year % 4 == 0 and not str(year).endswith(\"00\") :\n",
    "    print(\"leap year\")\n",
    "elif year % 400 == 0 :\n",
    "    print(\"leap year\")\n",
    "else :\n",
    "    print(\"not leap year\")"
   ]
  },
  {
   "cell_type": "code",
   "execution_count": 14,
   "id": "2bf03b4a-e247-4d7f-879b-3d65a3681a17",
   "metadata": {},
   "outputs": [
    {
     "name": "stdin",
     "output_type": "stream",
     "text": [
      "Number :  0\n"
     ]
    },
    {
     "name": "stdout",
     "output_type": "stream",
     "text": [
      "0\n"
     ]
    }
   ],
   "source": [
    "# 14. Write a Python script to determine if a number is positive, negative, or zero.\n",
    "num = int(input(\"Number : \"))\n",
    "if num > 0 :\n",
    "    print(\"Positive\")\n",
    "else :\n",
    "    if num == 0 :\n",
    "        print(\"0\")\n",
    "    else :\n",
    "        print(\"Negative\")"
   ]
  },
  {
   "cell_type": "code",
   "execution_count": 15,
   "id": "1b4d0e15-02d8-4a05-9b7d-4cccf3d0006d",
   "metadata": {},
   "outputs": [
    {
     "name": "stdin",
     "output_type": "stream",
     "text": [
      "Age :  15\n"
     ]
    },
    {
     "name": "stdout",
     "output_type": "stream",
     "text": [
      "you are a teen\n"
     ]
    }
   ],
   "source": [
    "# 15. Create a program to check if a person is a teenager (between 13 and 19 years old).\n",
    "if 13 <= int(input(\"Age : \")) <= 19 :\n",
    "    print(\"you are a teen\")\n",
    "else :\n",
    "    print(\"not teen\")"
   ]
  },
  {
   "cell_type": "code",
   "execution_count": 16,
   "id": "37b9f052-0df1-43a9-af18-06d91e13366e",
   "metadata": {},
   "outputs": [
    {
     "name": "stdin",
     "output_type": "stream",
     "text": [
      "Angle :  36\n"
     ]
    },
    {
     "name": "stdout",
     "output_type": "stream",
     "text": [
      "Acute\n"
     ]
    }
   ],
   "source": [
    "# 16. Develop a program that determines the type of angle based on its measure (acute, obtuse, or right).\n",
    "angle = int(input(\"Angle : \"))\n",
    "if angle > 0 and angle < 90 :\n",
    "    print(\"Acute\")\n",
    "elif angle == 90 :\n",
    "    print(\"Right\")\n",
    "else :\n",
    "    print(\"obtuse\")"
   ]
  },
  {
   "cell_type": "code",
   "execution_count": 17,
   "id": "74d7c936-5044-4bf5-8cef-b7c15f2347b9",
   "metadata": {},
   "outputs": [
    {
     "name": "stdin",
     "output_type": "stream",
     "text": [
      "Enter a :  1\n",
      "Enter b :  6\n",
      "Enter c :  9\n"
     ]
    },
    {
     "name": "stdout",
     "output_type": "stream",
     "text": [
      "-3.0 -3.0\n"
     ]
    }
   ],
   "source": [
    "# 17. Write a Python program to calculate the roots of a quadratic equation.\n",
    "a = int(input(\"Enter a : \"))\n",
    "b = int(input(\"Enter b : \"))\n",
    "c = int(input(\"Enter c : \"))\n",
    "D = (b ** 2) - (4 * a * c)\n",
    "if D >= 0 :\n",
    "    x1 = ((-b) + (D**0.5)) / (2 * a)\n",
    "    x2 = ((-b) - (D**0.5)) / (2 * a)\n",
    "    print(x1, x2)"
   ]
  },
  {
   "cell_type": "code",
   "execution_count": 18,
   "id": "18a94347-1410-47b0-adac-0ae2efe58042",
   "metadata": {},
   "outputs": [
    {
     "name": "stdin",
     "output_type": "stream",
     "text": [
      " :  5\n"
     ]
    },
    {
     "name": "stdout",
     "output_type": "stream",
     "text": [
      "Fri\n"
     ]
    }
   ],
   "source": [
    "# 18. Implement a program to determine the day of the week based on a user-provided number \n",
    "x = int(input(\" : \"))\n",
    "if x == 1 :\n",
    "    print(\"Mon\")\n",
    "elif x == 2 :\n",
    "    print(\"Tue\")\n",
    "elif x == 3 :\n",
    "    print(\"Wed\")\n",
    "elif x == 4 :\n",
    "    print(\"Thur\")\n",
    "elif x == 5 :\n",
    "    print(\"Fri\")\n",
    "elif x == 6 :\n",
    "    print(\"Sat\")\n",
    "else :\n",
    "    print(\"Sun\")"
   ]
  },
  {
   "cell_type": "code",
   "execution_count": 19,
   "id": "b7ec5505-7f33-4a74-bfc4-e6f3422e7dff",
   "metadata": {},
   "outputs": [
    {
     "name": "stdin",
     "output_type": "stream",
     "text": [
      "year :  2000\n"
     ]
    },
    {
     "name": "stdout",
     "output_type": "stream",
     "text": [
      "leap year also divisible by 400\n"
     ]
    }
   ],
   "source": [
    "# 19. Create a program that determines if a year is a leap year and also if it is evenly divisible by 400.\n",
    "if int(input(\"year : \")) % 400 == 0 :\n",
    "    print(\"leap year also divisible by 400\")\n",
    "else :\n",
    "    print(\"not divisible by 400\")"
   ]
  },
  {
   "cell_type": "code",
   "execution_count": 20,
   "id": "cdb97d91-5cf6-4487-8522-e138f18b85b7",
   "metadata": {},
   "outputs": [
    {
     "name": "stdin",
     "output_type": "stream",
     "text": [
      "Enter number :  23\n"
     ]
    },
    {
     "name": "stdout",
     "output_type": "stream",
     "text": [
      "23 is a prime number.\n"
     ]
    }
   ],
   "source": [
    "# 20. Develop a program that checks if a given number is prime or not using nested if-else statements\n",
    "num = int(input(\"Enter number : \"))\n",
    "if num > 1:\n",
    "        for i in range(2, int(num**0.5) + 1):\n",
    "            if num % i == 0:\n",
    "                print(f\"{num} is not a prime number.\")\n",
    "                break\n",
    "        else:\n",
    "            print(f\"{num} is a prime number.\")\n",
    "else:\n",
    "    print(f\"{num} is not a prime number.\")"
   ]
  },
  {
   "cell_type": "code",
   "execution_count": 21,
   "id": "f53b5e44-c79b-4c4b-a9c7-58fa115624c1",
   "metadata": {},
   "outputs": [
    {
     "name": "stdin",
     "output_type": "stream",
     "text": [
      "Enter marks :  50\n"
     ]
    },
    {
     "name": "stdout",
     "output_type": "stream",
     "text": [
      "Grade C\n"
     ]
    }
   ],
   "source": [
    "# Elif Statements:\n",
    "# 21. Write a Python program to assign grades based on different ranges of scores using elif statements.\n",
    "marks = int(input(\"Enter marks : \"))\n",
    "if marks >= 90 :\n",
    "    print(\"Grade A\")\n",
    "elif marks >= 70 :\n",
    "    print(\"Grade B\")\n",
    "elif marks >= 50 :\n",
    "    print(\"Grade C\")\n",
    "elif marks >= 30 :\n",
    "    print(\"Pass\")\n",
    "else :\n",
    "    print(\"Fail\")"
   ]
  },
  {
   "cell_type": "code",
   "execution_count": 22,
   "id": "7ddd7352-40e4-4cec-a657-967d52fc9deb",
   "metadata": {},
   "outputs": [
    {
     "name": "stdin",
     "output_type": "stream",
     "text": [
      "Enter angle 1 :  20\n",
      "Enter angle 2 :  60\n",
      "Enter angle 3 :  100\n"
     ]
    },
    {
     "name": "stdout",
     "output_type": "stream",
     "text": [
      "Scalene Triangle\n"
     ]
    }
   ],
   "source": [
    "# 22. Implement a program to determine the type of a triangle based on its angles.\n",
    "angle1 = int(input(\"Enter angle 1 : \"))\n",
    "angle2 = int(input(\"Enter angle 2 : \"))\n",
    "angle3 = int(input(\"Enter angle 3 : \"))\n",
    "if angle1 == angle2 == angle3 :\n",
    "    print(\"Equilateral Triangle\")\n",
    "elif angle1 != angle2 and angle2 != angle3 and angle1 != angle3 :\n",
    "    print(\"Scalene Triangle\")\n",
    "else :\n",
    "    print(\"Isosceles Triangle\")"
   ]
  },
  {
   "cell_type": "code",
   "execution_count": 23,
   "id": "fb123fb4-e3eb-4c1f-8bf1-0f196ed405b4",
   "metadata": {},
   "outputs": [
    {
     "name": "stdin",
     "output_type": "stream",
     "text": [
      "Enter BMI :  21.4\n"
     ]
    },
    {
     "name": "stdout",
     "output_type": "stream",
     "text": [
      "Normal\n"
     ]
    }
   ],
   "source": [
    "# 23. Develop a program to categorize a given person's BMI into underweight, normal, overweight, or obese using elif statements.\n",
    "bmi = float(input(\"Enter BMI : \"))\n",
    "if bmi <= 18.5 :\n",
    "    print(\"Underweight\")\n",
    "elif bmi <= 24.9 :\n",
    "    print(\"Normal\")\n",
    "elif bmi <= 29.9 :\n",
    "    print(\"Overweight\")\n",
    "else :\n",
    "    print(\"Obese\")"
   ]
  },
  {
   "cell_type": "code",
   "execution_count": 24,
   "id": "3f6ba31c-0891-4c44-b024-df2d388d2822",
   "metadata": {},
   "outputs": [
    {
     "name": "stdin",
     "output_type": "stream",
     "text": [
      "Enter a number :  -10\n"
     ]
    },
    {
     "name": "stdout",
     "output_type": "stream",
     "text": [
      "Negative\n"
     ]
    }
   ],
   "source": [
    "# 24. Create a program that determines whether a given number is positive, negative, or zero using elif statements.\n",
    "num = int(input(\"Enter a number : \"))\n",
    "if num == 0 :\n",
    "    print(\"Zero\")\n",
    "elif num > 0 :\n",
    "    print(\"Positive\")\n",
    "else :\n",
    "    print(\"Negative\")"
   ]
  },
  {
   "cell_type": "code",
   "execution_count": 25,
   "id": "a29b1e81-d6c8-4ea9-ab99-d8c43672cd5e",
   "metadata": {},
   "outputs": [
    {
     "name": "stdin",
     "output_type": "stream",
     "text": [
      "Enter a character :  %\n"
     ]
    },
    {
     "name": "stdout",
     "output_type": "stream",
     "text": [
      "special\n"
     ]
    }
   ],
   "source": [
    "# 25. Write a Python script to determine the type of a character (uppercase, lowercase, or special) using elif statements.\n",
    "char = input(\"Enter a character : \")\n",
    "if ord(char) >= ord(\"A\") and ord(char) <= ord(\"Z\") :\n",
    "    print(\"Uppercase\")\n",
    "elif ord(char) >= ord(\"a\") and ord(char) <= ord(\"z\") :\n",
    "    print(\"lowercase\")\n",
    "else :\n",
    "    print(\"special\")"
   ]
  },
  {
   "cell_type": "code",
   "execution_count": 26,
   "id": "ec47f5e7-35ac-4923-85a0-53d3ac76cc41",
   "metadata": {},
   "outputs": [
    {
     "name": "stdin",
     "output_type": "stream",
     "text": [
      "Enter your final amount :  5500\n"
     ]
    },
    {
     "name": "stdout",
     "output_type": "stream",
     "text": [
      "4400.0\n"
     ]
    }
   ],
   "source": [
    "# 26. Implement a program to calculate the discounted price based on different purchase amounts using elif statements.\n",
    "amt = int(input(\"Enter your final amount : \"))\n",
    "if amt >= 5000 :\n",
    "    print(amt - (amt * 0.2))\n",
    "elif amt >= 1000 :\n",
    "    print(amt - (amt * 0.1))\n",
    "else :\n",
    "    print(amt - (amt * 0.05))"
   ]
  },
  {
   "cell_type": "code",
   "execution_count": 27,
   "id": "63ca7a8c-dbf0-4531-b0b8-107632a75bad",
   "metadata": {},
   "outputs": [
    {
     "name": "stdin",
     "output_type": "stream",
     "text": [
      "Enter units :  5000\n"
     ]
    },
    {
     "name": "stdout",
     "output_type": "stream",
     "text": [
      "24100.0\n"
     ]
    }
   ],
   "source": [
    "# 27. Develop a program to calculate the electricity bill based on different consumption slabs using elif statements.\n",
    "units = float(input(\"Enter units : \"))\n",
    "bill_amt = 0\n",
    "if units <= 100 :\n",
    "    bill_amt = units * 2\n",
    "elif units <= 300 :\n",
    "    bill_amt = 200 + ((units - 100) * 3)\n",
    "elif units <= 500 :\n",
    "    bill_amt = 800 + ((units - 300) * 4)\n",
    "else :\n",
    "    bill_amt = 1600 + ((units - 500) * 5)\n",
    "print(bill_amt)"
   ]
  },
  {
   "cell_type": "code",
   "execution_count": 28,
   "id": "002d42ec-53d9-4b9d-bab8-37ae9a901d72",
   "metadata": {},
   "outputs": [
    {
     "name": "stdin",
     "output_type": "stream",
     "text": [
      "Angle A:  90\n",
      "Angle B:  90\n",
      "Angle C:  90\n",
      "Angle D:  90\n",
      "Length of side AB:  3\n",
      "Length of side BC:  4\n",
      "Length of side CD:  3\n",
      "Length of side DA:  4\n"
     ]
    },
    {
     "name": "stdout",
     "output_type": "stream",
     "text": [
      "Rectangle\n"
     ]
    }
   ],
   "source": [
    "# 28. Create a program to determine the type of quadrilateral based on its angles and sides using elif statements.\n",
    "angle_a = float(input(\"Angle A: \"))\n",
    "angle_b = float(input(\"Angle B: \"))\n",
    "angle_c = float(input(\"Angle C: \"))\n",
    "angle_d = float(input(\"Angle D: \"))\n",
    "side_ab = float(input(\"Length of side AB: \"))\n",
    "side_bc = float(input(\"Length of side BC: \"))\n",
    "side_cd = float(input(\"Length of side CD: \"))\n",
    "side_da = float(input(\"Length of side DA: \"))\n",
    "if angle_a + angle_b + angle_c + angle_d != 360.0 :\n",
    "    print(\"Sum of angles of a quad have to 360\")\n",
    "\n",
    "if angle_a == angle_b == angle_c == angle_d == 90.0:\n",
    "    if side_ab == side_bc == side_cd == side_da :\n",
    "        print(\"Square\")\n",
    "    elif side_ab == side_cd and side_bc == side_da :\n",
    "        print(\"Rectangle\")\n",
    "elif angle_a == angle_c and angle_b == angle_d :\n",
    "    if side_ab == side_bc == side_cd == side_da :\n",
    "        print(\"Rhombus\")\n",
    "    elif side_ab == side_cd and side_bc == side_da :\n",
    "        print(\"Parallelogram\")\n",
    "else :\n",
    "    print(\"General Quad\")"
   ]
  },
  {
   "cell_type": "code",
   "execution_count": 29,
   "id": "132dd20e-e240-463b-92d4-c580caddaba4",
   "metadata": {},
   "outputs": [
    {
     "name": "stdin",
     "output_type": "stream",
     "text": [
      "Enter month :  March\n"
     ]
    },
    {
     "name": "stdout",
     "output_type": "stream",
     "text": [
      "Winters\n"
     ]
    }
   ],
   "source": [
    "# 29. Write a Python script to determine the season based on a user-provided month using elif statements.\n",
    "d = {\n",
    "    \"January\" : 1,\n",
    "    \"February\" : 2,\n",
    "    \"March\" : 3,\n",
    "    \"April\" : 4,\n",
    "    \"May\" : 5,\n",
    "    \"June\" : 6,\n",
    "    \"July\" : 7,\n",
    "    \"August\" : 8,\n",
    "    \"September\" : 9,\n",
    "    \"October\" : 10,\n",
    "    \"November\" : 11,\n",
    "    \"December\" : 12\n",
    "}\n",
    "month = input(\"Enter month : \").capitalize()\n",
    "if d[\"April\"] <= d[month] and d[\"June\"] >= d[month] :\n",
    "    print(\"Summers\")\n",
    "elif d[\"July\"] <= d[month] and d[\"September\"] >= d[month] :\n",
    "    print(\"Monsoon\")\n",
    "else :\n",
    "    print(\"Winters\")"
   ]
  },
  {
   "cell_type": "code",
   "execution_count": 30,
   "id": "4d599ec3-d04b-462f-8d28-9efae91836b9",
   "metadata": {},
   "outputs": [
    {
     "name": "stdin",
     "output_type": "stream",
     "text": [
      "Enter year :  2024\n"
     ]
    },
    {
     "name": "stdout",
     "output_type": "stream",
     "text": [
      "leap year\n"
     ]
    },
    {
     "name": "stdin",
     "output_type": "stream",
     "text": [
      "Enter month :  april\n"
     ]
    },
    {
     "name": "stdout",
     "output_type": "stream",
     "text": [
      "30\n"
     ]
    }
   ],
   "source": [
    "# 30. Implement a program to determine the type of a year (leap or common) and month (30 or 31 days) using elif statements.\n",
    "year = int(input(\"Enter year : \"))\n",
    "if year % 4 == 0 and not str(year).endswith(\"00\") :\n",
    "    year = True\n",
    "    print(\"leap year\")\n",
    "elif year % 400 == 0 :\n",
    "    year = True\n",
    "    print(\"leap year\")\n",
    "else :\n",
    "    year = False\n",
    "    print(\"not leap year\")\n",
    "\n",
    "d = {\n",
    "    \"January\" : 31,\n",
    "    \"February\" : 28,\n",
    "    \"March\" : 31,\n",
    "    \"April\" : 30,\n",
    "    \"May\" : 31,\n",
    "    \"June\" : 30,\n",
    "    \"July\" : 31,\n",
    "    \"August\" : 31,\n",
    "    \"September\" : 30,\n",
    "    \"October\" : 31,\n",
    "    \"November\" : 30,\n",
    "    \"December\" : 31\n",
    "}\n",
    "\n",
    "month = input(\"Enter month : \").capitalize()\n",
    "\n",
    "if month != \"February\" :\n",
    "    print(d[month])\n",
    "else :\n",
    "    if year :\n",
    "        print(d[\"February\"] + 1)\n",
    "    else :\n",
    "        print(d[\"February\"])"
   ]
  },
  {
   "cell_type": "code",
   "execution_count": 31,
   "id": "910c07b9-ae88-4f94-baef-fb692579c8b1",
   "metadata": {},
   "outputs": [
    {
     "name": "stdin",
     "output_type": "stream",
     "text": [
      "Enter a number :  1\n"
     ]
    },
    {
     "name": "stdout",
     "output_type": "stream",
     "text": [
      "Positive\n"
     ]
    }
   ],
   "source": [
    "# Basic Level:\n",
    "# 1. Write a Python program that checks if a given number is positive, negative, or zero.\n",
    "num = int(input(\"Enter a number : \"))\n",
    "if num == 0 :\n",
    "    print(\"Zero\")\n",
    "elif num > 0 :\n",
    "    print(\"Positive\")\n",
    "else :\n",
    "    print(\"Negative\")"
   ]
  },
  {
   "cell_type": "code",
   "execution_count": 32,
   "id": "8bc7262d-8e71-4742-a0b4-177e77009a4f",
   "metadata": {},
   "outputs": [
    {
     "name": "stdin",
     "output_type": "stream",
     "text": [
      "Enter your age :  15\n"
     ]
    },
    {
     "name": "stdout",
     "output_type": "stream",
     "text": [
      "You can't vote\n"
     ]
    }
   ],
   "source": [
    "# 2. Create a program to determine if a person is eligible to vote based on their age.\n",
    "if int(input(\"Enter your age : \")) >= 18 :\n",
    "    print(\"You can vote\")\n",
    "else :\n",
    "    print(\"You can't vote\")"
   ]
  },
  {
   "cell_type": "code",
   "execution_count": 33,
   "id": "1ae2ebe8-8b50-4cff-9e56-9f284f4aad2f",
   "metadata": {},
   "outputs": [
    {
     "name": "stdin",
     "output_type": "stream",
     "text": [
      "Enter first number :  3\n",
      "Enter second number :  1\n"
     ]
    },
    {
     "name": "stdout",
     "output_type": "stream",
     "text": [
      "3 is greater than 1\n"
     ]
    }
   ],
   "source": [
    "# 3. Write a program to find the maximum of two given numbers using conditional statements.\n",
    "a = int(input(\"Enter first number : \"))\n",
    "b = int(input(\"Enter second number : \"))\n",
    "if a > b :\n",
    "    print(f\"{a} is greater than {b}\")\n",
    "else :\n",
    "    print(f\"{b} is greater than {a}\")"
   ]
  },
  {
   "cell_type": "code",
   "execution_count": 34,
   "id": "5dbb736d-e642-4eab-aa2e-dd6811a95126",
   "metadata": {},
   "outputs": [
    {
     "name": "stdin",
     "output_type": "stream",
     "text": [
      "Enter marks :  100\n"
     ]
    },
    {
     "name": "stdout",
     "output_type": "stream",
     "text": [
      "Grade A\n"
     ]
    }
   ],
   "source": [
    "# 4. Develop a program that calculates the grade of a student based on their exam score.\n",
    "marks = int(input(\"Enter marks : \"))\n",
    "if marks >= 90 :\n",
    "    print(\"Grade A\")\n",
    "elif marks >= 70 :\n",
    "    print(\"Grade B\")\n",
    "elif marks >= 50 :\n",
    "    print(\"Grade C\")\n",
    "elif marks >= 30 :\n",
    "    print(\"Pass\")\n",
    "else :\n",
    "    print(\"Fail\")"
   ]
  },
  {
   "cell_type": "code",
   "execution_count": 35,
   "id": "f3d1770e-9002-4821-9ebc-c17426f95eff",
   "metadata": {},
   "outputs": [
    {
     "name": "stdin",
     "output_type": "stream",
     "text": [
      "Enter year :  2300\n"
     ]
    },
    {
     "name": "stdout",
     "output_type": "stream",
     "text": [
      "not leap year\n"
     ]
    }
   ],
   "source": [
    "# 5. Create a program that checks if a year is a leap year or not.\n",
    "year = int(input(\"Enter year : \"))\n",
    "if year % 4 == 0 and not str(year).endswith(\"00\") :\n",
    "    year = True\n",
    "    print(\"leap year\")\n",
    "elif year % 400 == 0 :\n",
    "    year = True\n",
    "    print(\"leap year\")\n",
    "else :\n",
    "    year = False\n",
    "    print(\"not leap year\")"
   ]
  },
  {
   "cell_type": "code",
   "execution_count": 36,
   "id": "7e7436b1-3192-415a-bcf1-29e40fb937c4",
   "metadata": {},
   "outputs": [
    {
     "name": "stdin",
     "output_type": "stream",
     "text": [
      "Enter :  22\n",
      "Enter :  22\n",
      "Enter :  21\n"
     ]
    },
    {
     "name": "stdout",
     "output_type": "stream",
     "text": [
      "Isosceles\n"
     ]
    }
   ],
   "source": [
    "# 6. Write a program to classify a triangle based on its sides' lengths.\n",
    "firstside = int(input(\"Enter : \"))\n",
    "secondside = int(input(\"Enter : \"))\n",
    "thirdside = int(input(\"Enter : \"))\n",
    "if firstside == secondside == thirdside :\n",
    "    print(\"Equilateral\")\n",
    "else : \n",
    "    if firstside == secondside or secondside == thirdside or firstside == thirdside :\n",
    "        print(\"Isosceles\")\n",
    "    else :\n",
    "        print(\"Scalene\")"
   ]
  },
  {
   "cell_type": "code",
   "execution_count": 37,
   "id": "ce1085fd-6b9e-45e6-ae85-001b7ceda8fe",
   "metadata": {},
   "outputs": [
    {
     "name": "stdin",
     "output_type": "stream",
     "text": [
      "Enter a number :  59\n",
      "Enter a number :  500\n",
      "Enter a number :  -10\n"
     ]
    },
    {
     "name": "stdout",
     "output_type": "stream",
     "text": [
      "largest is 500\n"
     ]
    }
   ],
   "source": [
    "# 7. Build a program that determines the largest of three given numbers.\n",
    "firstNum = int(input(\"Enter a number : \"))\n",
    "secondNum = int(input(\"Enter a number : \"))\n",
    "thirdNum = int(input(\"Enter a number : \"))\n",
    "if firstNum > secondNum :\n",
    "    if firstNum > thirdNum :\n",
    "        print(f\"largest is {firstNum}\")\n",
    "    else :\n",
    "        print(f\"largest is {thirdNum}\")\n",
    "else :\n",
    "    if secondNum > thirdNum :\n",
    "        print(f\"largest is {secondNum}\")\n",
    "    else :\n",
    "        print(f\"largest is {thirdNum}\")"
   ]
  },
  {
   "cell_type": "code",
   "execution_count": 38,
   "id": "28b38583-1e8e-4d88-99ab-b5f6943bad23",
   "metadata": {},
   "outputs": [
    {
     "name": "stdin",
     "output_type": "stream",
     "text": [
      "Enter a character :  u\n"
     ]
    },
    {
     "name": "stdout",
     "output_type": "stream",
     "text": [
      "vowel\n"
     ]
    }
   ],
   "source": [
    "# 8. Develop a program that checks whether a character is a vowel or a consonant.\n",
    "if input(\"Enter a character : \") in [\"a\", \"e\", \"i\", \"o\", \"u\"] :\n",
    "    print(\"vowel\")\n",
    "else :\n",
    "    print(\"consonant\")"
   ]
  },
  {
   "cell_type": "code",
   "execution_count": 39,
   "id": "ca93c85c-bf41-4353-ba87-b638bc62578b",
   "metadata": {},
   "outputs": [
    {
     "name": "stdin",
     "output_type": "stream",
     "text": [
      "Enter your final amount :  1000\n"
     ]
    },
    {
     "name": "stdout",
     "output_type": "stream",
     "text": [
      "900.0\n"
     ]
    }
   ],
   "source": [
    "# 9. Create a program to calculate the total cost of a shopping cart based on discounts.\n",
    "amt = int(input(\"Enter your final amount : \"))\n",
    "if amt >= 5000 :\n",
    "    print(amt - (amt * 0.2))\n",
    "elif amt >= 1000 :\n",
    "    print(amt - (amt * 0.1))\n",
    "else :\n",
    "    print(amt - (amt * 0.05))"
   ]
  },
  {
   "cell_type": "code",
   "execution_count": 40,
   "id": "44bcb2c9-4287-4e6e-b4de-0491889adaa1",
   "metadata": {},
   "outputs": [
    {
     "name": "stdin",
     "output_type": "stream",
     "text": [
      "Enter a number :  2101\n"
     ]
    },
    {
     "name": "stdout",
     "output_type": "stream",
     "text": [
      "Odd\n"
     ]
    }
   ],
   "source": [
    "# 10. Write a program that checks if a given number is even or odd.\n",
    "num = int(input(\"Enter a number : \"))\n",
    "if num % 2 == 0 :\n",
    "    print(\"Even\")\n",
    "else :\n",
    "    print(\"Odd\")"
   ]
  },
  {
   "cell_type": "code",
   "execution_count": 41,
   "id": "b4faa0bb-fdd7-4482-8c6b-0ff2ecf8c766",
   "metadata": {},
   "outputs": [
    {
     "name": "stdin",
     "output_type": "stream",
     "text": [
      "Enter a :  1\n",
      "Enter b :  6\n",
      "Enter c :  9\n"
     ]
    },
    {
     "name": "stdout",
     "output_type": "stream",
     "text": [
      "-3.0 -3.0\n"
     ]
    }
   ],
   "source": [
    "# Intermediate Level:\n",
    "# 11. Write a program that calculates the roots of a quadratic equation .\n",
    "a = int(input(\"Enter a : \"))\n",
    "b = int(input(\"Enter b : \"))\n",
    "c = int(input(\"Enter c : \"))\n",
    "d = (b**2) - (4*a*c)\n",
    "if d >= 0 :\n",
    "    root1 = ((-b) + (d**0.5)) / (2*a)\n",
    "    root2 = ((-b) - (d**0.5)) / (2*a)\n",
    "    print(root1, root2)\n",
    "else :\n",
    "    print(\"Complex roots\")"
   ]
  },
  {
   "cell_type": "code",
   "execution_count": 42,
   "id": "20b36a8d-ffb2-44bf-b13d-15e0e7389679",
   "metadata": {},
   "outputs": [
    {
     "name": "stdin",
     "output_type": "stream",
     "text": [
      "Enter number :  1\n"
     ]
    },
    {
     "name": "stdout",
     "output_type": "stream",
     "text": [
      "Monday\n"
     ]
    }
   ],
   "source": [
    "# 12. Create a program that determines the day of the week based on the day number (1-7).\n",
    "day = int(input(\"Enter number : \"))\n",
    "if day == 1 :\n",
    "    print(\"Monday\")\n",
    "elif day == 2 :\n",
    "    print(\"Tuesday\")\n",
    "elif day == 3 :\n",
    "    print(\"Wednesday\")\n",
    "elif day == 4 :\n",
    "    print(\"Thursday\")\n",
    "elif day == 5 :\n",
    "    print(\"Friday\")\n",
    "elif day == 6 :\n",
    "    print(\"Saturday\")\n",
    "else :\n",
    "    print(\"Sunday\")"
   ]
  },
  {
   "cell_type": "code",
   "execution_count": 43,
   "id": "62a0071c-6aa8-4c1f-bc2f-78eb76cf11ee",
   "metadata": {},
   "outputs": [
    {
     "name": "stdout",
     "output_type": "stream",
     "text": [
      "3628800\n"
     ]
    }
   ],
   "source": [
    "# 13. Develop a program that calculates the factorial of a given number using recursion.\n",
    "def factorial(num) :\n",
    "    if num == 0 :\n",
    "        return 1\n",
    "    return num * factorial(num - 1)\n",
    "print(factorial(10))"
   ]
  },
  {
   "cell_type": "code",
   "execution_count": 44,
   "id": "f0fb2944-cc75-4380-8993-b61a0108f008",
   "metadata": {},
   "outputs": [
    {
     "name": "stdin",
     "output_type": "stream",
     "text": [
      "Enter a number :  1\n",
      "Enter a number :  2\n",
      "Enter a number :  3\n"
     ]
    },
    {
     "name": "stdout",
     "output_type": "stream",
     "text": [
      "largest is 3\n"
     ]
    }
   ],
   "source": [
    "# 14. Write a program to find the largest among three numbers without using the `max()` function.\n",
    "firstNum = int(input(\"Enter a number : \"))\n",
    "secondNum = int(input(\"Enter a number : \"))\n",
    "thirdNum = int(input(\"Enter a number : \"))\n",
    "if firstNum > secondNum :\n",
    "    if firstNum > thirdNum :\n",
    "        print(f\"largest is {firstNum}\")\n",
    "    else :\n",
    "        print(f\"largest is {thirdNum}\")\n",
    "else :\n",
    "    if secondNum > thirdNum :\n",
    "        print(f\"largest is {secondNum}\")\n",
    "    else :\n",
    "        print(f\"largest is {thirdNum}\")"
   ]
  },
  {
   "cell_type": "code",
   "execution_count": 45,
   "id": "8e1986c1-4a12-47e6-9202-a4b6b5e55b63",
   "metadata": {},
   "outputs": [
    {
     "name": "stdin",
     "output_type": "stream",
     "text": [
      "1 - Check Balance, 2 - Withdraw Money, 3 - Deposit Money, 4 - Transfer Funds, 5 - Change Pin, 6 - Print Receipt, 7 - Exit :  1\n"
     ]
    },
    {
     "name": "stdout",
     "output_type": "stream",
     "text": [
      "Your Balance is 💲💲💲\n"
     ]
    },
    {
     "name": "stdin",
     "output_type": "stream",
     "text": [
      "1 - Check Balance, 2 - Withdraw Money, 3 - Deposit Money, 4 - Transfer Funds, 5 - Change Pin, 6 - Print Receipt, 7 - Exit :  2\n",
      "How much money would you like to withdraw :  100\n"
     ]
    },
    {
     "name": "stdout",
     "output_type": "stream",
     "text": [
      "*Withdrawn amount 100*\n"
     ]
    },
    {
     "name": "stdin",
     "output_type": "stream",
     "text": [
      "1 - Check Balance, 2 - Withdraw Money, 3 - Deposit Money, 4 - Transfer Funds, 5 - Change Pin, 6 - Print Receipt, 7 - Exit :  3\n",
      "How much money would you like to deposite :  100\n"
     ]
    },
    {
     "name": "stdout",
     "output_type": "stream",
     "text": [
      "*deposited amount 100*\n"
     ]
    },
    {
     "name": "stdin",
     "output_type": "stream",
     "text": [
      "1 - Check Balance, 2 - Withdraw Money, 3 - Deposit Money, 4 - Transfer Funds, 5 - Change Pin, 6 - Print Receipt, 7 - Exit :  4\n",
      "Enter Account Number to which you would like to transfer funds to :  123456\n",
      "how much 💲💲💲 would you like to transfer to 123456 :  200\n"
     ]
    },
    {
     "name": "stdout",
     "output_type": "stream",
     "text": [
      "*Transfered 200 to 123456*\n"
     ]
    },
    {
     "name": "stdin",
     "output_type": "stream",
     "text": [
      "1 - Check Balance, 2 - Withdraw Money, 3 - Deposit Money, 4 - Transfer Funds, 5 - Change Pin, 6 - Print Receipt, 7 - Exit :  5\n",
      "Enter your old pin :  1234\n",
      "Enter your new pin :  4321\n"
     ]
    },
    {
     "name": "stdout",
     "output_type": "stream",
     "text": [
      "*Pin Changed*\n"
     ]
    },
    {
     "name": "stdin",
     "output_type": "stream",
     "text": [
      "1 - Check Balance, 2 - Withdraw Money, 3 - Deposit Money, 4 - Transfer Funds, 5 - Change Pin, 6 - Print Receipt, 7 - Exit :  6\n"
     ]
    },
    {
     "name": "stdout",
     "output_type": "stream",
     "text": [
      "*Receipt Printed*\n"
     ]
    },
    {
     "name": "stdin",
     "output_type": "stream",
     "text": [
      "1 - Check Balance, 2 - Withdraw Money, 3 - Deposit Money, 4 - Transfer Funds, 5 - Change Pin, 6 - Print Receipt, 7 - Exit :  8\n"
     ]
    },
    {
     "name": "stdout",
     "output_type": "stream",
     "text": [
      "Enter a valid number\n"
     ]
    },
    {
     "name": "stdin",
     "output_type": "stream",
     "text": [
      "1 - Check Balance, 2 - Withdraw Money, 3 - Deposit Money, 4 - Transfer Funds, 5 - Change Pin, 6 - Print Receipt, 7 - Exit :  7\n"
     ]
    },
    {
     "name": "stdout",
     "output_type": "stream",
     "text": [
      "Thank you\n"
     ]
    }
   ],
   "source": [
    "# 15. Create a program that simulates a basic ATM transaction menu.\n",
    "flag = True\n",
    "while flag : \n",
    "    userInput = input(\"1 - Check Balance, 2 - Withdraw Money, 3 - Deposit Money, 4 - Transfer Funds, 5 - Change Pin, 6 - Print Receipt, 7 - Exit : \")\n",
    "\n",
    "    if userInput == \"1\" :\n",
    "        print(\"Your Balance is 💲💲💲\")\n",
    "    elif userInput == \"2\" :\n",
    "        withdraw = int(input(\"How much money would you like to withdraw : \"))\n",
    "        print(f\"*Withdrawn amount {withdraw}*\")\n",
    "    elif userInput == \"3\" :\n",
    "        deposite = int(input(\"How much money would you like to deposite : \"))\n",
    "        print(f\"*deposited amount {deposite}*\")\n",
    "    elif userInput == \"4\" :\n",
    "        whereTo = input(\"Enter Account Number to which you would like to transfer funds to : \")\n",
    "        howMuch = int(input(f\"how much 💲💲💲 would you like to transfer to {whereTo} : \"))\n",
    "        print(f\"*Transfered {howMuch} to {whereTo}*\")\n",
    "    elif userInput == \"5\" :\n",
    "        oldPin = int(input(\"Enter your old pin : \"))\n",
    "        newPin = int(input(\"Enter your new pin : \"))\n",
    "        print(\"*Pin Changed*\")\n",
    "    elif userInput == \"6\" :\n",
    "        print(\"*Receipt Printed*\")\n",
    "    elif userInput == \"7\" :\n",
    "        print(\"Thank you\")\n",
    "        flag = False\n",
    "    else :\n",
    "        print(\"Enter a valid number\")"
   ]
  },
  {
   "cell_type": "code",
   "execution_count": 46,
   "id": "1aab7c58-62fa-4ca9-b85f-8f2f33eb5aa7",
   "metadata": {},
   "outputs": [
    {
     "name": "stdin",
     "output_type": "stream",
     "text": [
      "Enter a string :  abcd\n"
     ]
    },
    {
     "name": "stdout",
     "output_type": "stream",
     "text": [
      "Not Palindrome\n"
     ]
    }
   ],
   "source": [
    "# 16. Build a program that checks if a given string is a palindrome or not.\n",
    "strg = input(\"Enter a string : \")\n",
    "if strg == strg[::-1] :\n",
    "    print(\"Palindrome\")\n",
    "else :\n",
    "    print(\"Not Palindrome\")"
   ]
  },
  {
   "cell_type": "code",
   "execution_count": 47,
   "id": "90617ad5-65ad-4ba7-91fa-23e3d35b9781",
   "metadata": {},
   "outputs": [
    {
     "name": "stdin",
     "output_type": "stream",
     "text": [
      " 10 9 8 7 6 5 4 3 2 1\n"
     ]
    },
    {
     "name": "stdout",
     "output_type": "stream",
     "text": [
      "5.5\n"
     ]
    }
   ],
   "source": [
    "# 17. Write a program that calculates the average of a list of numbers, excluding the smallest and largest values.\n",
    "li = list(map(int, input().split()))\n",
    "li.sort()\n",
    "sum_ = 0\n",
    "for i in range(1, len(li)-1) :\n",
    "    sum_ += li[i]\n",
    "print(sum_ / (len(li) - 2))"
   ]
  },
  {
   "cell_type": "code",
   "execution_count": 48,
   "id": "35a00787-f81e-4aa2-af23-90497f3b0966",
   "metadata": {},
   "outputs": [
    {
     "name": "stdin",
     "output_type": "stream",
     "text": [
      "Enter celcius value :  0\n"
     ]
    },
    {
     "name": "stdout",
     "output_type": "stream",
     "text": [
      "32.0\n"
     ]
    }
   ],
   "source": [
    "# 18. Develop a program that converts a given temperature from Celsius to Fahrenheit.\n",
    "celcius = float(input(\"Enter celcius value : \"))\n",
    "f = (celcius * 1.8) + 32\n",
    "print(f)"
   ]
  },
  {
   "cell_type": "code",
   "execution_count": 49,
   "id": "9615c955-68c2-4b52-9a39-76e75f966231",
   "metadata": {},
   "outputs": [
    {
     "name": "stdin",
     "output_type": "stream",
     "text": [
      " 1\n",
      " 3\n",
      " 4\n"
     ]
    },
    {
     "name": "stdout",
     "output_type": "stream",
     "text": [
      "7\n"
     ]
    },
    {
     "name": "stdin",
     "output_type": "stream",
     "text": [
      " 8\n"
     ]
    },
    {
     "name": "stdout",
     "output_type": "stream",
     "text": [
      "Invalid Operation\n"
     ]
    },
    {
     "name": "stdin",
     "output_type": "stream",
     "text": [
      " 6\n"
     ]
    }
   ],
   "source": [
    "# 19. Create a program that simulates a basic calculator for addition, subtraction, multiplication, and division.\n",
    "flag = True\n",
    "while flag :\n",
    "    op = int(input())\n",
    "    if op == 1:\n",
    "        num_1 = int(input())\n",
    "        num_2 = int(input())\n",
    "        print(num_1 + num_2)\n",
    "    elif op == 2:\n",
    "        num_1 = int(input())\n",
    "        num_2 = int(input())\n",
    "        print(num_1 - num_2)\n",
    "    elif op == 3:\n",
    "        num_1 = int(input())\n",
    "        num_2 = int(input())\n",
    "        print(num_1 * num_2)\n",
    "    elif op == 4:\n",
    "        num_1 = int(input())\n",
    "        num_2 = int(input())\n",
    "        print(int(num_1 / num_2))\n",
    "    elif op == 5:\n",
    "        num_1 = int(input())\n",
    "        num_2 = int(input())\n",
    "        print(num_1 % num_2)\n",
    "    elif op == 6:\n",
    "        flag = False\n",
    "    else :\n",
    "        print(\"Invalid Operation\")"
   ]
  },
  {
   "cell_type": "code",
   "execution_count": null,
   "id": "032a5bac-ffc4-4846-a5f5-261dc46d5728",
   "metadata": {},
   "outputs": [],
   "source": [
    "# 20. Write a program that determines the roots of a cubic equation using the Cardano formula.\n",
    "import math\n",
    "def cubic_roots(a, b, c, d):\n",
    "    # Calculate discriminant and intermediate values\n",
    "    p = (3*a*c - b**2) / (3*a**2)\n",
    "    q = (2*b**3 - 9*a*b*c + 27*a**2*d) / (27*a**3)\n",
    "    delta = (q**2) / 4 + (p**3) / 27\n",
    "    \n",
    "    if delta > 0:\n",
    "        # 1 real root, 2 complex roots\n",
    "        root1 = -2 * math.sqrt(p/3) * math.cos(math.acos(3*q/(2*p*math.sqrt(p)))/3) - b / (3*a)\n",
    "        return [root1]\n",
    "    elif delta == 0:\n",
    "        # All roots are real and at least two are equal\n",
    "        root1 = -2 * math.sqrt(p/3) * math.cos(math.acos(3*q/(2*p*math.sqrt(p)))/3) - b / (3*a)\n",
    "        root2 = math.sqrt(p) * math.cos(math.acos(3*q/(2*p*math.sqrt(p)))/3) - b / (3*a)\n",
    "        return [root1, root2]\n",
    "    else:\n",
    "        # 3 real roots\n",
    "        root1 = 2 * math.sqrt(-p/3) * math.cos((1/3) * math.acos(3*q/(2*p) * math.sqrt(-3/p))) - b / (3*a)\n",
    "        root2 = 2 * math.sqrt(-p/3) * math.cos((1/3) * math.acos(3*q/(2*p) * math.sqrt(-3/p)) + (2/3) * math.pi) - b / (3*a)\n",
    "        root3 = 2 * math.sqrt(-p/3) * math.cos((1/3) * math.acos(3*q/(2*p) * math.sqrt(-3/p)) + (4/3) * math.pi) - b / (3*a)\n",
    "        return [root1, root2, root3]\n",
    "\n",
    "a = float(input(\"Enter coefficient of x^3: \"))\n",
    "b = float(input(\"Enter coefficient of x^2: \"))\n",
    "c = float(input(\"Enter coefficient of x: \"))\n",
    "d = float(input(\"Enter constant term: \"))\n",
    "roots = cubic_roots(a, b, c, d)\n",
    "print(roots)"
   ]
  },
  {
   "cell_type": "code",
   "execution_count": 51,
   "id": "a233cb2f-af18-4fc9-8941-a14dda1966e4",
   "metadata": {},
   "outputs": [
    {
     "name": "stdin",
     "output_type": "stream",
     "text": [
      "Enter your annual income :  19000000\n"
     ]
    },
    {
     "name": "stdout",
     "output_type": "stream",
     "text": [
      "Income tax : 5700000.0\n"
     ]
    }
   ],
   "source": [
    "# Advanced Level:\n",
    "# 21. Create a program that calculates the income tax based on the user's income and tax brackets.\n",
    "income = int(input(\"Enter your annual income : \"))\n",
    "if income <= 250000 :\n",
    "    print(\"Income tax :\", 0)\n",
    "elif income <= 500000 :\n",
    "    print(\"Income tax :\", income * 0.05)\n",
    "elif income <= 1000000 :\n",
    "    print(\"Income tax :\", income * 0.2)\n",
    "else :\n",
    "    print(\"Income tax :\", income * 0.3)"
   ]
  },
  {
   "cell_type": "code",
   "execution_count": 52,
   "id": "76a6c6ce-b609-4857-afbc-464136e34fad",
   "metadata": {},
   "outputs": [
    {
     "name": "stdin",
     "output_type": "stream",
     "text": [
      "What do you chose? Type 0 for rock, 1 for paper or 2 for scissors\n",
      " 0\n"
     ]
    },
    {
     "name": "stdout",
     "output_type": "stream",
     "text": [
      "\n",
      "    _______\n",
      "---'   ____)\n",
      "      (_____)\n",
      "      (_____)\n",
      "      (____)\n",
      "---.__(___)\n",
      "\n",
      "Computer chose :\n",
      "\n",
      "    _______\n",
      "---'   ____)____\n",
      "          ______)\n",
      "          _______)\n",
      "         _______)\n",
      "---.__________)\n",
      "\n",
      "You lost\n"
     ]
    }
   ],
   "source": [
    "# 22. Write a program that simulates a rock-paper-scissors game against the computer.\n",
    "rock = '''\n",
    "    _______\n",
    "---'   ____)\n",
    "      (_____)\n",
    "      (_____)\n",
    "      (____)\n",
    "---.__(___)\n",
    "'''\n",
    "\n",
    "paper = '''\n",
    "    _______\n",
    "---'   ____)____\n",
    "          ______)\n",
    "          _______)\n",
    "         _______)\n",
    "---.__________)\n",
    "'''\n",
    "\n",
    "scissors = '''\n",
    "    _______\n",
    "---'   ____)____\n",
    "          ______)\n",
    "       __________)\n",
    "      (____)\n",
    "---.__(___)\n",
    "'''\n",
    "\n",
    "import random\n",
    "\n",
    "rps = [rock, paper, scissors]\n",
    "\n",
    "your_choice = input(\"What do you chose? Type 0 for rock, 1 for paper or 2 for scissors\\n\")\n",
    "if your_choice == \"1\" or your_choice == \"2\" or your_choice == \"0\" :\n",
    "  your_choice = int(your_choice)\n",
    "  print(rps[your_choice])\n",
    "  print(\"Computer chose :\")\n",
    "  random_num = random.randint(0,2)\n",
    "  computer_chose = rps[random_num]\n",
    "  print(computer_chose)\n",
    "\n",
    "  if (your_choice == 0 and random_num == 2) or (your_choice == 1 and random_num == 0) or (your_choice == 2 and random_num == 1) :\n",
    "    print(\"You won\")\n",
    "  elif (your_choice == 0 and random_num == 1) or (your_choice == 1 and random_num == 2) or (your_choice == 2 and random_num == 0) :\n",
    "    print(\"You lost\")\n",
    "  else :\n",
    "    print(\"It's a tie\")\n",
    "    \n",
    "else: \n",
    "  print(\"Invlaid input\")"
   ]
  },
  {
   "cell_type": "code",
   "execution_count": 53,
   "id": "09d336f3-671d-48b3-b9d9-18a82e9da9ae",
   "metadata": {},
   "outputs": [
    {
     "name": "stdin",
     "output_type": "stream",
     "text": [
      "Enter the number of capital letters you want :  3\n",
      "Enter the number of small letters you want :  2\n",
      "Enter the number of numbers you want :  3\n",
      "Enter the number of special characters you want :  2\n"
     ]
    },
    {
     "name": "stdout",
     "output_type": "stream",
     "text": [
      "B4@W9n1f*S\n"
     ]
    }
   ],
   "source": [
    "# 23. Develop a program that generates a random password based on user preferences (length, complexity).\n",
    "import random\n",
    "capitalLetters = [\"A\", \"B\", \"C\", \"D\", \"E\", \"F\", \"G\", \"H\", \"I\", \"J\", \"K\", \"L\", \"M\", \"N\", \"O\", \"P\", \"Q\", \"R\", \"S\", \"T\", \"U\", \"V\", \"W\", \"X\", \"Y\", \"Z\"]\n",
    "smallLetters = [\"a\", \"b\", \"c\", \"d\", \"e\", \"f\", \"g\", \"h\", \"i\", \"j\", \"k\", \"l\", \"m\", \"n\", \"o\", \"p\", \"q\", \"r\", \"s\", \"t\", \"u\", \"v\", \"w\", \"x\", \"y\", \"z\"]\n",
    "numbers = [0,1,2,3,4,5,6,7,8,9]\n",
    "special = [\"#\", \"@\", \"!\", \"$\", \"%\", \"^\", \"&\", \"*\"]\n",
    "\n",
    "numOfCap = int(input(\"Enter the number of capital letters you want : \"))\n",
    "numOfSmall = int(input(\"Enter the number of small letters you want : \"))\n",
    "numOfNum = int(input(\"Enter the number of numbers you want : \"))\n",
    "numOfSpecial = int(input(\"Enter the number of special characters you want : \"))\n",
    "\n",
    "totatLength = numOfCap + numOfSmall + numOfNum + numOfSpecial\n",
    "finalPassChar = []\n",
    "\n",
    "while totatLength > 0 :\n",
    "    if numOfCap > 0 :\n",
    "        finalPassChar.append(random.choice(capitalLetters))\n",
    "        numOfCap -= 1\n",
    "    \n",
    "    if numOfSmall > 0 :\n",
    "        finalPassChar.append(random.choice(smallLetters))\n",
    "        numOfSmall -= 1\n",
    "    \n",
    "    if numOfNum > 0 :\n",
    "        finalPassChar.append(random.choice(numbers))\n",
    "        numOfNum -= 1\n",
    "\n",
    "    if numOfSpecial > 0 :\n",
    "        finalPassChar.append(random.choice(special))\n",
    "        numOfSpecial -= 1\n",
    "    \n",
    "    totatLength -= 1\n",
    "\n",
    "random.shuffle(finalPassChar)\n",
    "password = \"\"\n",
    "for char in finalPassChar :\n",
    "    password += str(char)\n",
    "print(password)"
   ]
  },
  {
   "cell_type": "code",
   "execution_count": 54,
   "id": "ac39618f-6e79-4af1-b48a-6b41d8f5e5d0",
   "metadata": {},
   "outputs": [
    {
     "name": "stdout",
     "output_type": "stream",
     "text": [
      "Welcome to the Adventure Game!\n",
      "You find yourself standing in front of a mysterious cave entrance.\n",
      "Do you want to enter the cave? (yes/no)\n"
     ]
    },
    {
     "name": "stdin",
     "output_type": "stream",
     "text": [
      " no\n"
     ]
    },
    {
     "name": "stdout",
     "output_type": "stream",
     "text": [
      "You decide not to enter the cave. Game Over!\n"
     ]
    }
   ],
   "source": [
    "# 24. Create a program that implements a simple text-based adventure game with branching scenarios.\n",
    "print(\"Welcome to the Adventure Game!\")\n",
    "print(\"You find yourself standing in front of a mysterious cave entrance.\")\n",
    "print(\"Do you want to enter the cave? (yes/no)\")\n",
    "choice = input().lower()\n",
    "if choice == \"yes\":\n",
    "    print(\"You enter the cave and see two tunnels. One is dark and ominous, the other is dimly lit.\")\n",
    "    print(\"Which tunnel do you choose? (dark/lit)\")\n",
    "    choice = input().lower()\n",
    "    if choice == \"dark\":\n",
    "        print(\"You enter the dark tunnel and hear strange noises echoing from the depths.\")\n",
    "        print(\"Do you want to proceed further? (yes/no)\")\n",
    "        choice = input().lower()\n",
    "        if choice == \"yes\":\n",
    "            print(\"You cautiously move forward, but suddenly a trapdoor opens beneath you!\")\n",
    "            print(\"You fall into a pit and are unable to escape. Game Over!\")\n",
    "        elif choice == \"no\":\n",
    "            print(\"You decide to turn back. Good choice! You exit the cave safely.\")\n",
    "        else:\n",
    "            print(\"Invalid choice. Please enter 'yes' or 'no'. next time because you got killed by a monster\")\n",
    "\n",
    "    elif choice == \"lit\":\n",
    "        print(\"You enter the dimly lit tunnel and see a faint glow at the end.\")\n",
    "        print(\"As you approach, you discover a treasure chest!\")\n",
    "        print(\"Do you want to open the chest? (yes/no)\")\n",
    "        choice = input().lower()\n",
    "        if choice == \"yes\":\n",
    "            print(\"You open the chest and find a valuable artifact!\")\n",
    "            print(\"Congratulations! You win!\")\n",
    "        elif choice == \"no\":\n",
    "            print(\"You decide not to risk it and leave the chest behind.\")\n",
    "            print(\"You exit the cave safely.\")\n",
    "        else:\n",
    "            print(\"Invalid choice. Please enter 'yes' or 'no'. next time because you got killed by a monster\")\n",
    "\n",
    "    else:\n",
    "        print(\"Invalid choice. Please enter 'dark' or 'lit'. next time because you got killed by a monster\")\n",
    "\n",
    "elif choice == \"no\":\n",
    "    print(\"You decide not to enter the cave. Game Over!\")\n",
    "\n",
    "else:\n",
    "    print(\"Invalid choice. Please enter 'yes' or 'no'. next time because you got killed by a monster\")"
   ]
  },
  {
   "cell_type": "code",
   "execution_count": 55,
   "id": "3fbbc035-9ead-4dd8-9c73-dce05ed739a4",
   "metadata": {},
   "outputs": [
    {
     "name": "stdin",
     "output_type": "stream",
     "text": [
      "Enter coeff of x :  15\n",
      "Enter constant value :  -45\n"
     ]
    },
    {
     "name": "stdout",
     "output_type": "stream",
     "text": [
      "3.0\n"
     ]
    }
   ],
   "source": [
    "# 25. Build a program that solves a linear equation for x, considering different cases.\n",
    "a = int(input(\"Enter coeff of x : \"))\n",
    "b = int(input(\"Enter constant value : \"))\n",
    "\n",
    "if a == 0 :\n",
    "    if b == 0 :\n",
    "        print(\"Infinite solutions\")\n",
    "    else :\n",
    "        print(\"No solution\")\n",
    "else :\n",
    "    print(-b/a)"
   ]
  },
  {
   "cell_type": "code",
   "execution_count": 56,
   "id": "59e062d1-478a-4837-87d3-ba7b35ef2d5f",
   "metadata": {},
   "outputs": [
    {
     "name": "stdout",
     "output_type": "stream",
     "text": [
      "Q1 - Capital of France?\n",
      "a) Rome\n",
      "b) Madrid\n",
      "c) Paris\n",
      "d) Berlin\n"
     ]
    },
    {
     "name": "stdin",
     "output_type": "stream",
     "text": [
      "Enter a/b/c/d :  c\n"
     ]
    },
    {
     "name": "stdout",
     "output_type": "stream",
     "text": [
      "Correct -> +4\n",
      "Q2 - Which planet is known as the Red Planet?\n",
      "a) Jupiter\n",
      "b) Venus\n",
      "c) Mars\n",
      "d) Mercury\n"
     ]
    },
    {
     "name": "stdin",
     "output_type": "stream",
     "text": [
      "Enter a/b/c/d :  c\n"
     ]
    },
    {
     "name": "stdout",
     "output_type": "stream",
     "text": [
      "Correct -> +4\n",
      "Q3 - Who wrote the famous play Romeo and Juliet?\n",
      "a) William Shakespeare\n",
      "b) Charles Dickens\n",
      "c) Jane Austen\n",
      "d) F. Scott Fitzgerald\n"
     ]
    },
    {
     "name": "stdin",
     "output_type": "stream",
     "text": [
      "Enter a/b/c/d :  a\n"
     ]
    },
    {
     "name": "stdout",
     "output_type": "stream",
     "text": [
      "Correct -> +4\n",
      "12\n"
     ]
    }
   ],
   "source": [
    "# 26. Write a program that simulates a basic quiz game with multiple-choice questions and scoring.\n",
    "score = 0\n",
    "print(\"Q1 - Capital of France?\")\n",
    "print('a) Rome\\nb) Madrid\\nc) Paris\\nd) Berlin')\n",
    "ans = input(\"Enter a/b/c/d : \").lower()\n",
    "if ans == \"c\" :\n",
    "    print(\"Correct -> +4\")\n",
    "    score += 4\n",
    "else :\n",
    "    print(\"Wrong -> -1\")\n",
    "    score -= 1\n",
    "\n",
    "print(\"Q2 - Which planet is known as the Red Planet?\")\n",
    "print('a) Jupiter\\nb) Venus\\nc) Mars\\nd) Mercury')\n",
    "ans = input(\"Enter a/b/c/d : \").lower()\n",
    "if ans == \"c\" :\n",
    "    print(\"Correct -> +4\")\n",
    "    score += 4\n",
    "else :\n",
    "    print(\"Wrong -> -1\")\n",
    "    score -= 1\n",
    "\n",
    "print(\"Q3 - Who wrote the famous play Romeo and Juliet?\")\n",
    "print('a) William Shakespeare\\nb) Charles Dickens\\nc) Jane Austen\\nd) F. Scott Fitzgerald')\n",
    "ans = input(\"Enter a/b/c/d : \").lower()\n",
    "if ans == \"a\" :\n",
    "    print(\"Correct -> +4\")\n",
    "    score += 4\n",
    "else :\n",
    "    print(\"Wrong -> -1\")\n",
    "    score -= 1\n",
    "print(score)\n"
   ]
  },
  {
   "cell_type": "code",
   "execution_count": 57,
   "id": "b6f73333-3489-41bd-b0f1-de010fb27d08",
   "metadata": {},
   "outputs": [
    {
     "name": "stdin",
     "output_type": "stream",
     "text": [
      "Enter number :  2024\n"
     ]
    },
    {
     "name": "stdout",
     "output_type": "stream",
     "text": [
      "2024 is not a prime number.\n"
     ]
    }
   ],
   "source": [
    "# 27. Develop a program that determines whether a given year is a prime number or not.\n",
    "num = int(input(\"Enter number : \"))\n",
    "if num > 1:\n",
    "        for i in range(2, int(num**0.5) + 1):\n",
    "            if num % i == 0:\n",
    "                print(f\"{num} is not a prime number.\")\n",
    "                break\n",
    "        else:\n",
    "            print(f\"{num} is a prime number.\")\n",
    "else:\n",
    "    print(f\"{num} is not a prime number.\")"
   ]
  },
  {
   "cell_type": "code",
   "execution_count": 58,
   "id": "61ecd378-9484-4aa4-bd43-47842a87f2f8",
   "metadata": {},
   "outputs": [
    {
     "name": "stdin",
     "output_type": "stream",
     "text": [
      "Enter a number :  15\n",
      "Enter a number :  45\n",
      "Enter a number :  30\n"
     ]
    },
    {
     "name": "stdout",
     "output_type": "stream",
     "text": [
      "15 30 45\n"
     ]
    }
   ],
   "source": [
    "# 28. Create a program that sorts three numbers in ascending order using conditional statements.\n",
    "firstNum = int(input(\"Enter a number : \"))\n",
    "secondNum = int(input(\"Enter a number : \"))\n",
    "thirdNum = int(input(\"Enter a number : \"))\n",
    "if firstNum > secondNum :\n",
    "    if firstNum > thirdNum :\n",
    "        if secondNum > thirdNum :\n",
    "            print(thirdNum, secondNum, firstNum)\n",
    "        else :\n",
    "            print(secondNum, thirdNum, firstNum)\n",
    "    else :\n",
    "        if firstNum > secondNum :\n",
    "            print(secondNum, firstNum, thirdNum)\n",
    "        else :\n",
    "            print(firstNum, secondNum, thirdNum)\n",
    "else :\n",
    "    if secondNum > thirdNum :\n",
    "        if firstNum > thirdNum :\n",
    "            print(thirdNum, firstNum, secondNum)\n",
    "        else :\n",
    "            print(firstNum, thirdNum, secondNum)\n",
    "    else :\n",
    "        if firstNum > secondNum :\n",
    "            print(secondNum, firstNum, thirdNum)\n",
    "        else :\n",
    "            print(firstNum, secondNum, thirdNum)"
   ]
  },
  {
   "cell_type": "code",
   "execution_count": 2,
   "id": "133dd439-425e-4d74-ad99-765cca3c1073",
   "metadata": {},
   "outputs": [
    {
     "name": "stdin",
     "output_type": "stream",
     "text": [
      "Enter a :  1\n",
      "Enter b :  6\n",
      "Enter c :  9\n"
     ]
    },
    {
     "name": "stdout",
     "output_type": "stream",
     "text": [
      "-3.0 -3.0\n"
     ]
    }
   ],
   "source": [
    "# 29. Build a program that determines the roots of a quartic equation using numerical methods.\n",
    "a = int(input(\"Enter a : \"))\n",
    "b = int(input(\"Enter b : \"))\n",
    "c = int(input(\"Enter c : \"))\n",
    "d = (b**2) - (4*a*c)\n",
    "if d >= 0 :\n",
    "    root1 = ((-b) + (d**0.5)) / (2*a)\n",
    "    root2 = ((-b) - (d**0.5)) / (2*a)\n",
    "    print(root1, root2)\n",
    "else :\n",
    "    print(\"Complex roots\")"
   ]
  },
  {
   "cell_type": "code",
   "execution_count": 3,
   "id": "5c65f2ad-f0f6-408e-8733-f42471ef773c",
   "metadata": {},
   "outputs": [
    {
     "name": "stdin",
     "output_type": "stream",
     "text": [
      "Enter your weight in kilograms:  65\n",
      "Enter your height in meters:  1.7\n"
     ]
    },
    {
     "name": "stdout",
     "output_type": "stream",
     "text": [
      "You have a healthy weight. Keep maintaining a balanced diet and exercising regularly.\n"
     ]
    }
   ],
   "source": [
    "# 30. Write a program that calculates the BMI (Body Mass Index) and provides health recommendations based on the user's input.\n",
    "weight = float(input(\"Enter your weight in kilograms: \"))\n",
    "height = float(input(\"Enter your height in meters: \"))\n",
    "bmi = weight / (height ** 2)\n",
    "if bmi < 18.5:\n",
    "    print(\"You are underweight. Try to gain some weight by eating a balanced diet and exercising regularly.\")\n",
    "elif 18.5 <= bmi < 24.9:\n",
    "    print(\"You have a healthy weight. Keep maintaining a balanced diet and exercising regularly.\")\n",
    "elif 25 <= bmi < 29.9:\n",
    "    print(\"You are overweight. Consider adjusting your diet and exercise routine to achieve a healthier weight.\")\n",
    "else:\n",
    "    print(\"You are obese. It's important to consult with a healthcare professional to create a weight loss plan.\")"
   ]
  },
  {
   "cell_type": "code",
   "execution_count": 4,
   "id": "c7acad13-7a8d-4d6e-a5f3-849069bd3364",
   "metadata": {},
   "outputs": [
    {
     "name": "stdin",
     "output_type": "stream",
     "text": [
      "Enter your password :  abAC12#@Hy\n"
     ]
    },
    {
     "name": "stdout",
     "output_type": "stream",
     "text": [
      "Password is Valid\n"
     ]
    }
   ],
   "source": [
    "# 31. Create a program that validates a password based on complexity rules (length, characters, etc.).\n",
    "password = input(\"Enter your password : \")\n",
    "special_characters = \"!@#$%^&*()-_+=~`[]{}|:;'<>,.?/\"\n",
    "\n",
    "if len(password) < 8 :\n",
    "    print(\"Password must be atleast 8 characters\")\n",
    "else : \n",
    "    has_upper = False\n",
    "    has_lower = False\n",
    "    has_digit = False\n",
    "    has_special = False\n",
    "    for char in password:\n",
    "        if char.isupper():\n",
    "            has_upper = True\n",
    "        elif char.islower():\n",
    "            has_lower = True\n",
    "        elif char.isdigit():\n",
    "            has_digit = True\n",
    "        elif char in special_characters:\n",
    "            has_special = True\n",
    "\n",
    "    if has_upper and has_special and has_digit and has_lower :\n",
    "        print(\"Password is Valid\")\n",
    "    else :\n",
    "        print(\"Password should have atleast one upper, one lower, one digit and one special character\")"
   ]
  },
  {
   "cell_type": "code",
   "execution_count": 5,
   "id": "2f339162-0b38-4ad7-8b56-aec69f02471e",
   "metadata": {},
   "outputs": [
    {
     "name": "stdin",
     "output_type": "stream",
     "text": [
      "Enter number of rows :  3\n"
     ]
    },
    {
     "name": "stdout",
     "output_type": "stream",
     "text": [
      "Matrix A : \n"
     ]
    },
    {
     "name": "stdin",
     "output_type": "stream",
     "text": [
      " 1 2 3\n",
      " 4 5 6\n",
      " 7 8 9\n"
     ]
    },
    {
     "name": "stdout",
     "output_type": "stream",
     "text": [
      "Matrix B : \n"
     ]
    },
    {
     "name": "stdin",
     "output_type": "stream",
     "text": [
      " 1 2 3\n",
      " 4 5 6\n",
      " 7 8 9\n"
     ]
    },
    {
     "name": "stdout",
     "output_type": "stream",
     "text": [
      "A + B : \n",
      "2 4 6 \n",
      "8 10 12 \n",
      "14 16 18 \n",
      "A - B : \n",
      "0 0 0 \n",
      "0 0 0 \n",
      "0 0 0 \n"
     ]
    }
   ],
   "source": [
    "# 32. Develop a program that performs matrix addition and subtraction based on user input.\n",
    "# Assuming same number of columns and rows in both matrix\n",
    "n = int(input(\"Enter number of rows : \"))\n",
    "print(\"Matrix A : \")\n",
    "matrixA = [[int(col) for col in input().split()] for row in range(n)]\n",
    "print(\"Matrix B : \")\n",
    "matrixB = [[int(col) for col in input().split()] for row in range(n)]\n",
    "\n",
    "additionMatrix = []\n",
    "subtractionMatrix = []\n",
    "for i in range(len(matrixA)) :\n",
    "    add = []\n",
    "    sub = []\n",
    "    for j in range(len(matrixA[i])) :\n",
    "        add.append(matrixA[i][j] + matrixB[i][j])\n",
    "        sub.append(matrixA[i][j] - matrixB[i][j])\n",
    "    additionMatrix.append(add)\n",
    "    subtractionMatrix.append(sub)\n",
    "\n",
    "print(\"A + B : \")\n",
    "for li in additionMatrix :\n",
    "    for num in li :\n",
    "        print(num, end=\" \")\n",
    "    print()\n",
    "\n",
    "print(\"A - B : \")\n",
    "for li in subtractionMatrix :\n",
    "    for num in li :\n",
    "        print(num, end=\" \")\n",
    "    print()"
   ]
  },
  {
   "cell_type": "code",
   "execution_count": 6,
   "id": "6cdf529e-b9fd-41d3-98db-6bae601c1553",
   "metadata": {},
   "outputs": [
    {
     "name": "stdout",
     "output_type": "stream",
     "text": [
      "6\n"
     ]
    }
   ],
   "source": [
    "# 33. Write a program that calculates the greatest common divisor (GCD) of two numbers using the Euclidean algorithm.\n",
    "# Assuming a >= b\n",
    "def gcd(a, b):\n",
    "    if a == 0:\n",
    "        return b\n",
    "    return gcd(b % a, a)\n",
    "print(gcd(48, 18))"
   ]
  },
  {
   "cell_type": "code",
   "execution_count": 7,
   "id": "7701bb10-b8ae-40dd-bdd0-ec643631ff1f",
   "metadata": {},
   "outputs": [
    {
     "name": "stdout",
     "output_type": "stream",
     "text": [
      "[19, 22]\n",
      "[43, 50]\n"
     ]
    }
   ],
   "source": [
    "# 34. Build a program that performs matrix multiplication using nested loops and conditional statements.\n",
    "matrix1 = [\n",
    "    [1, 2],\n",
    "    [3, 4]\n",
    "]\n",
    "\n",
    "matrix2 = [\n",
    "    [5, 6],\n",
    "    [7, 8]\n",
    "]\n",
    "\n",
    "result = [[0 for _ in range(len(matrix2[0]))] for _ in range(len(matrix1))]\n",
    "\n",
    "for i in range(len(matrix1)): \n",
    "    for j in range(len(matrix2[0])):  \n",
    "        for k in range(len(matrix2)):  \n",
    "            result[i][j] += matrix1[i][k] * matrix2[k][j]\n",
    "\n",
    "for row in result:\n",
    "    print(row)\n"
   ]
  },
  {
   "cell_type": "code",
   "execution_count": 8,
   "id": "2e929dfb-d6be-4040-bdf4-3dc2b8c13933",
   "metadata": {},
   "outputs": [
    {
     "name": "stdout",
     "output_type": "stream",
     "text": [
      "You play X, computer plays O\n",
      "Computer's Turn: \n",
      "['_', '_', '_']\n",
      "['_', '_', 'O']\n",
      "['_', '_', '_']\n",
      "Your turn: \n"
     ]
    },
    {
     "name": "stdin",
     "output_type": "stream",
     "text": [
      "Enter y (0/1/2):  1\n",
      "Enter x (0/1/2):  1\n"
     ]
    },
    {
     "name": "stdout",
     "output_type": "stream",
     "text": [
      "['_', '_', '_']\n",
      "['_', 'X', 'O']\n",
      "['_', '_', '_']\n",
      "Computer's Turn: \n",
      "['_', '_', '_']\n",
      "['_', 'X', 'O']\n",
      "['_', 'O', '_']\n",
      "Your turn: \n"
     ]
    },
    {
     "name": "stdin",
     "output_type": "stream",
     "text": [
      "Enter y (0/1/2):  0\n",
      "Enter x (0/1/2):  0\n"
     ]
    },
    {
     "name": "stdout",
     "output_type": "stream",
     "text": [
      "['X', '_', '_']\n",
      "['_', 'X', 'O']\n",
      "['_', 'O', '_']\n",
      "Computer's Turn: \n",
      "['X', '_', '_']\n",
      "['O', 'X', 'O']\n",
      "['_', 'O', '_']\n",
      "Your turn: \n"
     ]
    },
    {
     "name": "stdin",
     "output_type": "stream",
     "text": [
      "Enter y (0/1/2):  2\n",
      "Enter x (0/1/2):  2\n"
     ]
    },
    {
     "name": "stdout",
     "output_type": "stream",
     "text": [
      "['X', '_', '_']\n",
      "['O', 'X', 'O']\n",
      "['_', 'O', 'X']\n",
      "You won\n"
     ]
    }
   ],
   "source": [
    "# 35. Create a program that simulates a basic text-based tic-tac-toe game against the computer.\n",
    "import random\n",
    "\n",
    "ticTacToe = [[\"_\", \"_\", \"_\"], [\"_\", \"_\", \"_\"], [\"_\", \"_\", \"_\"]]\n",
    "\n",
    "print(\"You play X, computer plays O\")\n",
    "\n",
    "while \"_\" in ticTacToe[0] or \"_\" in ticTacToe[1] or \"_\" in ticTacToe[2]:\n",
    "    print(\"Computer's Turn: \")\n",
    "    filled_pos = [(i, j) for i in range(3) for j in range(3) if ticTacToe[i][j] != \"_\"]\n",
    "    while True:\n",
    "        ci = random.randint(0, 2)\n",
    "        cj = random.randint(0, 2)\n",
    "        if (ci, cj) not in filled_pos:\n",
    "            filled_pos.append((ci, cj))\n",
    "            ticTacToe[ci][cj] = \"O\"\n",
    "            break\n",
    "\n",
    "    for li in ticTacToe:\n",
    "        print(li)\n",
    "        \n",
    "    if (\"O\" in ticTacToe[0][0] and \"O\" in ticTacToe[0][1] and \"O\" in ticTacToe[0][2]) or (\"O\" in ticTacToe[1][0] and \"O\" in ticTacToe[1][1] and \"O\" in ticTacToe[1][2]) or (\"O\" in ticTacToe[2][0] and \"O\" in ticTacToe[2][1] and \"O\" in ticTacToe[2][2]) or (\"O\" in ticTacToe[0][0] and \"O\" in ticTacToe[1][0] and \"O\" in ticTacToe[2][0]) or (\"O\" in ticTacToe[0][1] and \"O\" in ticTacToe[1][1] and \"O\" in ticTacToe[2][1]) or (\"O\" in ticTacToe[0][2] and \"O\" in ticTacToe[1][2] and \"O\" in ticTacToe[2][2]) or (\"O\" in ticTacToe[0][0] and \"O\" in ticTacToe[1][1] and \"O\" in ticTacToe[2][2]) or (\"O\" in ticTacToe[0][2] and \"O\" in ticTacToe[1][1] and \"O\" in ticTacToe[2][0]):\n",
    "        print(\"Computer won\")\n",
    "        break\n",
    "\n",
    "    if \"_\" not in ticTacToe[0] and \"_\" not in ticTacToe[1] and \"_\" not in ticTacToe[2] :\n",
    "        print(\"Draw\")\n",
    "        break\n",
    "\n",
    "    print(\"Your turn: \")\n",
    "    ui = int(input(\"Enter y (0/1/2): \"))\n",
    "    uj = int(input(\"Enter x (0/1/2): \"))\n",
    "    while (ui, uj) in filled_pos:\n",
    "        print(\"That position is already filled\")\n",
    "        ui = int(input(\"Enter y (0/1/2): \"))\n",
    "        uj = int(input(\"Enter x (0/1/2): \"))\n",
    "    filled_pos.append((ui, uj))\n",
    "    ticTacToe[ui][uj] = \"X\"\n",
    "    for li in ticTacToe:\n",
    "        print(li)\n",
    "    if (\"X\" in ticTacToe[0][0] and \"X\" in ticTacToe[0][1] and \"X\" in ticTacToe[0][2]) or (\"X\" in ticTacToe[1][0] and \"X\" in ticTacToe[1][1] and \"X\" in ticTacToe[1][2]) or (\"X\" in ticTacToe[2][0] and \"X\" in ticTacToe[2][1] and \"X\" in ticTacToe[2][2]) or (\"X\" in ticTacToe[0][0] and \"X\" in ticTacToe[1][0] and \"X\" in ticTacToe[2][0]) or (\"X\" in ticTacToe[0][1] and \"X\" in ticTacToe[1][1] and \"X\" in ticTacToe[2][1]) or (\"X\" in ticTacToe[0][2] and \"X\" in ticTacToe[1][2] and \"X\" in ticTacToe[2][2]) or (\"X\" in ticTacToe[0][0] and \"X\" in ticTacToe[1][1] and \"X\" in ticTacToe[2][2]) or (\"X\" in ticTacToe[0][2] and \"X\" in ticTacToe[1][1] and \"X\" in ticTacToe[2][0]):\n",
    "        print(\"You won\")\n",
    "        break\n",
    "else:\n",
    "    print(\"Draw\")"
   ]
  },
  {
   "cell_type": "code",
   "execution_count": 9,
   "id": "8071d995-3167-4eb0-ba32-5b2e6876340c",
   "metadata": {},
   "outputs": [
    {
     "name": "stdin",
     "output_type": "stream",
     "text": [
      "Enter nth :  4\n"
     ]
    },
    {
     "name": "stdout",
     "output_type": "stream",
     "text": [
      "0\n",
      "1\n",
      "1\n",
      "2\n",
      "3\n",
      "5\n"
     ]
    }
   ],
   "source": [
    "# 36. Write a program that generates Fibonacci numbers up to a specified term using iterative methods.\n",
    "n = int(input(\"Enter nth : \"))\n",
    "a = 0\n",
    "b = 1\n",
    "print(a)\n",
    "print(b)\n",
    "for i in range(n) :\n",
    "    c = a + b\n",
    "    print(c)\n",
    "    a = b\n",
    "    b = c "
   ]
  },
  {
   "cell_type": "code",
   "execution_count": 10,
   "id": "143dcc0e-4be4-4ca9-b90d-02b6fdc767fd",
   "metadata": {},
   "outputs": [
    {
     "name": "stdout",
     "output_type": "stream",
     "text": [
      "8\n"
     ]
    }
   ],
   "source": [
    "# 37. Develop a program that calculates the nth term of the Fibonacci sequence using memoization.\n",
    "fib = {}\n",
    "def fibonacci(n):\n",
    "    if n in fib:\n",
    "        return fib[n]\n",
    "    if n <= 1:\n",
    "        return n\n",
    "    fib[n] = fibonacci(n-1) + fibonacci(n-2)\n",
    "    return fib[n]\n",
    "print(fibonacci(6)) "
   ]
  },
  {
   "cell_type": "code",
   "execution_count": 11,
   "id": "33f760cb-e5fe-47af-ba78-502a4d941999",
   "metadata": {},
   "outputs": [
    {
     "name": "stdin",
     "output_type": "stream",
     "text": [
      "Enter month (1-12):  2\n",
      "Enter year:  2024\n"
     ]
    },
    {
     "name": "stdout",
     "output_type": "stream",
     "text": [
      "Calendar for 2/2024\n",
      "Mo Tu We Th Fr Sa Su\n",
      "                1  2 \n",
      " 3  4  5  6  7  8  9 \n",
      "10 11 12 13 14 15 16 \n",
      "17 18 19 20 21 22 23 \n",
      "24 25 26 27 28 29 \n"
     ]
    }
   ],
   "source": [
    "# 38. Create a program that generates a calendar for a given month and year using conditional statements.\n",
    "def is_leap_year(year):\n",
    "    if year % 4 == 0:\n",
    "        if year % 100 == 0:\n",
    "            if year % 400 == 0:\n",
    "                return True\n",
    "            else:\n",
    "                return False\n",
    "        else:\n",
    "            return True\n",
    "    else:\n",
    "        return False\n",
    "\n",
    "def get_num_days_in_month(month, year):\n",
    "    if month in {1, 3, 5, 7, 8, 10, 12}:\n",
    "        return 31\n",
    "    elif month in {4, 6, 9, 11}:\n",
    "        return 30\n",
    "    elif month == 2:\n",
    "        if is_leap_year(year):\n",
    "            return 29\n",
    "        else:\n",
    "            return 28\n",
    "    else:\n",
    "        return None\n",
    "\n",
    "def generate_calendar(month, year):\n",
    "    days_in_month = get_num_days_in_month(month, year)\n",
    "    if days_in_month is None:\n",
    "        print(\"Invalid month\")\n",
    "        return\n",
    "    print(f\"Calendar for {month}/{year}\")\n",
    "    print(\"Mo Tu We Th Fr Sa Su\")\n",
    "    \n",
    "    if month < 3:\n",
    "        month += 12\n",
    "        year -= 1\n",
    "    k = year % 100\n",
    "    j = year // 100\n",
    "    day_of_week = (1 + ((13*(month+1))//5) + k + (k//4) + (j//4) - (2*j)) % 7\n",
    "    print(\"   \" * day_of_week, end=\"\")\n",
    "    for day in range(1, days_in_month + 1):\n",
    "        print(f\"{day:2}\", end=\" \")\n",
    "        if (day + day_of_week) % 7 == 0 or day == days_in_month:\n",
    "            print()\n",
    "    \n",
    "month = int(input(\"Enter month (1-12): \"))\n",
    "year = int(input(\"Enter year: \"))\n",
    "generate_calendar(month, year)"
   ]
  },
  {
   "cell_type": "code",
   "execution_count": 12,
   "id": "9e188542-c851-452c-b8cf-51463fe5b8eb",
   "metadata": {},
   "outputs": [
    {
     "name": "stdout",
     "output_type": "stream",
     "text": [
      "┌─────────┐┌─────────┐\n",
      "│7        ││J        │\n",
      "│         ││         │\n",
      "│         ││         │\n",
      "│    ♠    ││    ♦    │\n",
      "│         ││         │\n",
      "│         ││         │\n",
      "│        7││        J│\n",
      "└─────────┘└─────────┘\n",
      "┌─────────┐┌─────────┐\n",
      "│░░░░░░░░░││J        │\n",
      "│░░░░░░░░░││         │\n",
      "│░░░░░░░░░││         │\n",
      "│░░░░░░░░░││    ♣    │\n",
      "│░░░░░░░░░││         │\n",
      "│░░░░░░░░░││         │\n",
      "│░░░░░░░░░││        J│\n",
      "└─────────┘└─────────┘\n"
     ]
    },
    {
     "name": "stdin",
     "output_type": "stream",
     "text": [
      "Do you want to hit or stand :  stand\n"
     ]
    },
    {
     "name": "stdout",
     "output_type": "stream",
     "text": [
      "You current value of cards is 17\n",
      "Dealer's hole card : \n",
      "┌─────────┐\n",
      "│A        │\n",
      "│         │\n",
      "│         │\n",
      "│    ♥    │\n",
      "│         │\n",
      "│         │\n",
      "│        A│\n",
      "└─────────┘\n",
      "Dealer's current value of cards is 21\n",
      "Dealer got blackjack! Dealer wins!\n"
     ]
    }
   ],
   "source": [
    "# 39. Build a program that simulates a basic text-based blackjack game against the computer.\n",
    "import random\n",
    "\n",
    "class Card(object):\n",
    "    card_values = {\n",
    "        'Ace': 11,  # value of the ace is high until it needs to be low\n",
    "        '2': 2,\n",
    "        '3': 3,\n",
    "        '4': 4,\n",
    "        '5': 5,\n",
    "        '6': 6,\n",
    "        '7': 7,\n",
    "        '8': 8,\n",
    "        '9': 9,\n",
    "        '10': 10,\n",
    "        'Jack': 10,\n",
    "        'Queen': 10,\n",
    "        'King': 10\n",
    "    }\n",
    "\n",
    "    def __init__(self, suit, rank):\n",
    "        \"\"\"\n",
    "        :param suit: The face of the card, e.g. Spade or Diamond\n",
    "        :param rank: The value of the card, e.g 3 or King\n",
    "        \"\"\"\n",
    "        self.suit = suit.capitalize()\n",
    "        self.rank = rank\n",
    "        self.points = self.card_values[rank]\n",
    "\n",
    "def ascii_version_of_card(*cards, return_string=True):\n",
    "    \"\"\"\n",
    "    Instead of a boring text version of the card we render an ASCII image of the card.\n",
    "    :param cards: One or more card objects\n",
    "    :param return_string: By default we return the string version of the card, but the dealer hide the 1st card and we\n",
    "    keep it as a list so that the dealer can add a hidden card in front of the list\n",
    "    \"\"\"\n",
    "    # we will use this to prints the appropriate icons for each card\n",
    "    suits_name = ['Spades', 'Diamonds', 'Hearts', 'Clubs']\n",
    "    suits_symbols = ['♠', '♦', '♥', '♣']\n",
    "\n",
    "    # create an empty list of list, each sublist is a line\n",
    "    lines = [[] for i in range(9)]\n",
    "\n",
    "    for index, card in enumerate(cards):\n",
    "        # \"King\" should be \"K\" and \"10\" should still be \"10\"\n",
    "        if card.rank == '10':  # ten is the only one who's rank is 2 char long\n",
    "            rank = card.rank\n",
    "            space = ''  # if we write \"10\" on the card that line will be 1 char to long\n",
    "        else:\n",
    "            rank = card.rank[0]  # some have a rank of 'King' this changes that to a simple 'K' (\"King\" doesn't fit)\n",
    "            space = ' '  # no \"10\", we use a blank space to will the void\n",
    "        # get the cards suit in two steps\n",
    "        suit = suits_name.index(card.suit)\n",
    "        suit = suits_symbols[suit]\n",
    "\n",
    "        # add the individual card on a line by line basis\n",
    "        lines[0].append('┌─────────┐')\n",
    "        lines[1].append('│{}{}       │'.format(rank, space))  # use two {} one for char, one for space or char\n",
    "        lines[2].append('│         │')\n",
    "        lines[3].append('│         │')\n",
    "        lines[4].append('│    {}    │'.format(suit))\n",
    "        lines[5].append('│         │')\n",
    "        lines[6].append('│         │')\n",
    "        lines[7].append('│       {}{}│'.format(space, rank))\n",
    "        lines[8].append('└─────────┘')\n",
    "\n",
    "    result = []\n",
    "    for index, line in enumerate(lines):\n",
    "        result.append(''.join(lines[index]))\n",
    "\n",
    "    # hidden cards do not use string\n",
    "    if return_string:\n",
    "        return '\\n'.join(result)\n",
    "    else:\n",
    "        return result\n",
    "\n",
    "\n",
    "def ascii_version_of_hidden_card(*cards):\n",
    "    \"\"\"\n",
    "    Essentially the dealers method of print ascii cards. This method hides the first card, shows it flipped over\n",
    "    :param cards: A list of card objects, the first will be hidden\n",
    "    :return: A string, the nice ascii version of cards\n",
    "    \"\"\"\n",
    "    # a flipper over card. # This is a list of lists instead of a list of string becuase appending to a list is better then adding a string\n",
    "    lines = [['┌─────────┐'], ['│░░░░░░░░░│'], ['│░░░░░░░░░│'], ['│░░░░░░░░░│'], ['│░░░░░░░░░│'], ['│░░░░░░░░░│'], ['│░░░░░░░░░│'], ['│░░░░░░░░░│'], ['└─────────┘']]\n",
    "\n",
    "    # store the non-flipped over card after the one that is flipped over\n",
    "    cards_except_first = ascii_version_of_card(*cards[1:], return_string=False)\n",
    "    for index, line in enumerate(cards_except_first):\n",
    "        lines[index].append(line)\n",
    "\n",
    "    # make each line into a single list\n",
    "    for index, line in enumerate(lines):\n",
    "        lines[index] = ''.join(line)\n",
    "\n",
    "    # convert the list into a single string\n",
    "    return '\\n'.join(lines)\n",
    "\n",
    "card_values = {\n",
    "    'Ace': 11,  # value of the ace is high until it needs to be low\n",
    "    '2': 2,\n",
    "    '3': 3,\n",
    "    '4': 4,\n",
    "    '5': 5,\n",
    "    '6': 6,\n",
    "    '7': 7,\n",
    "    '8': 8,\n",
    "    '9': 9,\n",
    "    '10': 10,\n",
    "    'Jack': 10,\n",
    "    'Queen': 10,\n",
    "    'King': 10\n",
    "}\n",
    "\n",
    "suits_name = ['Spades', 'Diamonds', 'Hearts', 'Clubs']\n",
    "cards = ['Ace','2','3','4','5','6','7','8','9','10','Jack','Queen', 'King']\n",
    "\n",
    "# Inital user cards\n",
    "user_card1_suit = random.choice(suits_name)\n",
    "user_card1_name = random.choice(cards)\n",
    "user_card1 = Card(user_card1_suit, user_card1_name)\n",
    "user_card2_suit = random.choice(suits_name)\n",
    "user_card2_name = random.choice(cards)\n",
    "user_card2 = Card(user_card2_suit, user_card2_name)\n",
    "print(ascii_version_of_card(user_card1, user_card2))\n",
    "\n",
    "# Initial delear cards\n",
    "dealer_card1_suit = random.choice(suits_name)\n",
    "dealer_card1_name = random.choice(cards)\n",
    "dealer_card1 = Card(dealer_card1_suit, dealer_card1_name)\n",
    "dealer_card2_suit = random.choice(suits_name)\n",
    "dealer_card2_name = random.choice(cards)\n",
    "dealer_card2 = Card(dealer_card2_suit, dealer_card2_name)\n",
    "print(ascii_version_of_hidden_card(dealer_card1, dealer_card2))\n",
    "\n",
    "# Inital values of cards\n",
    "playerCardsValue = card_values[user_card1_name] + card_values[user_card2_name]\n",
    "dealerCardsValue = card_values[dealer_card1_name] + card_values[dealer_card2_name]\n",
    "\n",
    "# Number of cards with dealer and Number of cards with player (Initially)\n",
    "numCardsPlayer = 2\n",
    "playerCardsList = [user_card1_name, user_card2_name]\n",
    "numCardsDealer = 2\n",
    "dealerCardsList = [dealer_card1_name, dealer_card2_name]\n",
    "\n",
    "# To fix intial values of cards if ace present for player\n",
    "if (playerCardsValue > 21) and (user_card1_name == \"Ace\" or user_card2_name == \"Ace\") :\n",
    "    playerCardsValue = playerCardsValue - 10\n",
    "    playerCardsList.remove(\"Ace\")\n",
    "    print(f\"You current value of cards is {playerCardsValue}\")\n",
    "\n",
    "# To fix inital values of cards if ace present for dealer\n",
    "if (dealerCardsValue > 21) and (dealer_card1_name == \"Ace\" or dealer_card2_name == \"Ace\") :\n",
    "    dealerCardsValue = dealerCardsValue - 10\n",
    "    dealerCardsList.remove(\"Ace\")\n",
    "\n",
    "\n",
    "while True :\n",
    "    if playerCardsValue == 21 and numCardsPlayer == 2:\n",
    "        if dealerCardsValue == 21 and numCardsDealer == 2:\n",
    "            print(\"Both player and dealer have a natural blackjack. It's a tie!\")\n",
    "            break\n",
    "        else:\n",
    "            print(\"Player has a natural blackjack! Player wins!\")\n",
    "            break\n",
    "\n",
    "    options = input(\"Do you want to hit or stand : \").lower()\n",
    "    if options == \"hit\" :\n",
    "        numCardsPlayer += 1\n",
    "        user_card_suit = random.choice(suits_name)\n",
    "        user_card_name = random.choice(cards)\n",
    "        user_card = Card(user_card_suit, user_card_name)\n",
    "        print(ascii_version_of_card(user_card))\n",
    "        playerCardsValue += card_values[user_card_name]\n",
    "        playerCardsList.append(user_card_name)\n",
    "        if playerCardsValue > 21 :\n",
    "            if \"Ace\" in playerCardsList :\n",
    "                playerCardsValue = playerCardsValue - 10\n",
    "                print(f\"You current value of cards is {playerCardsValue}\")\n",
    "                playerCardsList.remove(\"Ace\")\n",
    "            else :\n",
    "                print(f\"You current value of cards is {playerCardsValue}\")\n",
    "                print(\"Bust!!! You lose\")\n",
    "                break\n",
    "    \n",
    "    elif options == \"stand\" :\n",
    "        print(f\"You current value of cards is {playerCardsValue}\")\n",
    "\n",
    "        print(\"Dealer's hole card : \")\n",
    "        print(ascii_version_of_card(dealer_card1))\n",
    "\n",
    "        print(f\"Dealer's current value of cards is {dealerCardsValue}\")\n",
    "\n",
    "        while dealerCardsValue < 17 :\n",
    "            numCardsDealer += 1\n",
    "            print(\"Dealer hits as value less than 17\")\n",
    "            card_suit = random.choice(suits_name)\n",
    "            card_name = random.choice(cards)\n",
    "            card = Card(card_suit, card_name)\n",
    "            print(ascii_version_of_card(card))\n",
    "            dealerCardsValue += card_values[card_name]\n",
    "            dealerCardsList.append(card_name)\n",
    "            if (dealerCardsValue > 21) and (\"Ace\" in dealerCardsList) :\n",
    "                dealerCardsValue = dealerCardsValue - 10\n",
    "                dealerCardsList.remove(\"Ace\")\n",
    "            print(f\"Dealer's current value of cards is {dealerCardsValue}\")\n",
    "\n",
    "        if dealerCardsValue > 21 :\n",
    "            print(\"Dealer Bust!! You win\")\n",
    "            break\n",
    "\n",
    "        if dealerCardsValue == 21 :\n",
    "            if playerCardsValue == 21 :\n",
    "                print(\"Draw!\")\n",
    "                break\n",
    "            else :\n",
    "                print(\"Dealer got blackjack! Dealer wins!\")\n",
    "                break\n",
    "        else : # dealerCardsValue < 21\n",
    "            if playerCardsValue == 21 :\n",
    "                print(\"Blackjack!! You win!\")\n",
    "                break\n",
    "            elif playerCardsValue > dealerCardsValue :\n",
    "                print(\"You win!!\")\n",
    "                break\n",
    "            elif dealerCardsValue == playerCardsValue :\n",
    "                print(\"Draw!\")\n",
    "                break\n",
    "            else :\n",
    "                print(\"Dealer wins!!\")\n",
    "                break\n",
    "    else :\n",
    "        print(\"Enter hit or stand\")"
   ]
  },
  {
   "cell_type": "code",
   "execution_count": 15,
   "id": "095fb6e1-d8f2-4d67-b953-d165625d48bb",
   "metadata": {},
   "outputs": [
    {
     "name": "stdin",
     "output_type": "stream",
     "text": [
      "Enter a number:  35\n"
     ]
    },
    {
     "name": "stdout",
     "output_type": "stream",
     "text": [
      "[5, 7]\n"
     ]
    }
   ],
   "source": [
    "# 40. Write a program that generates the prime factors of a given number using trial division.\n",
    "n = int(input(\"Enter a number: \"))\n",
    "factors = []\n",
    "divisor = 2\n",
    "while n > 1:\n",
    "    while n % divisor == 0:\n",
    "        factors.append(divisor)\n",
    "        n //= divisor\n",
    "    divisor += 1\n",
    "print(factors)"
   ]
  },
  {
   "cell_type": "code",
   "execution_count": null,
   "id": "4bce16ec-0275-41c7-b810-c6fc707acecb",
   "metadata": {},
   "outputs": [],
   "source": []
  }
 ],
 "metadata": {
  "kernelspec": {
   "display_name": "Python 3 (ipykernel)",
   "language": "python",
   "name": "python3"
  },
  "language_info": {
   "codemirror_mode": {
    "name": "ipython",
    "version": 3
   },
   "file_extension": ".py",
   "mimetype": "text/x-python",
   "name": "python",
   "nbconvert_exporter": "python",
   "pygments_lexer": "ipython3",
   "version": "3.10.8"
  }
 },
 "nbformat": 4,
 "nbformat_minor": 5
}
